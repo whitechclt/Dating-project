{
 "cells": [
  {
   "cell_type": "markdown",
   "id": "8ccb9618",
   "metadata": {},
   "source": [
    "## Проект: вариант 3. Проведение A/B-теста в дейтинговом приложении."
   ]
  },
  {
   "cell_type": "code",
   "execution_count": 2,
   "id": "eaca375b",
   "metadata": {},
   "outputs": [],
   "source": [
    "import pandas as pd\n",
    "import numpy as np\n",
    "\n",
    "import seaborn as sns\n",
    "import matplotlib.pyplot as plt\n",
    "%matplotlib inline\n",
    "\n",
    "from scipy import stats\n",
    "import statsmodels.api as sm\n",
    "\n",
    "from datetime import date\n",
    "from tqdm.auto import tqdm"
   ]
  },
  {
   "cell_type": "code",
   "execution_count": 3,
   "id": "29af28fc",
   "metadata": {},
   "outputs": [],
   "source": [
    "# Выгружаем данные\n",
    "users_test      = pd.read_csv('/Users/Александр/Desktop/Python/Karpov/Финальный проект/Проект_3_users_test.csv', sep=';')\n",
    "users_control_1 = pd.read_csv('/Users/Александр/Desktop/Python/Karpov/Финальный проект/Проект_3_users_control_1.csv', sep=';')\n",
    "users_control_2 = pd.read_csv('/Users/Александр/Desktop/Python/Karpov/Финальный проект/Проект_3_users_control_2.csv', sep=';')\n",
    "\n",
    "transactions_test      = pd.read_csv('/Users/Александр/Desktop/Python/Karpov/Финальный проект/Проект_3_transactions_test.csv', sep=';')\n",
    "transactions_control_1 = pd.read_csv('/Users/Александр/Desktop/Python/Karpov/Финальный проект/Проект_3_transactions_control_1.csv', sep=';')\n",
    "transactions_control_2 = pd.read_csv('/Users/Александр/Desktop/Python/Karpov/Финальный проект/Проект_3_transactions_control_2.csv', sep=';')"
   ]
  },
  {
   "cell_type": "code",
   "execution_count": 4,
   "id": "e029a227",
   "metadata": {},
   "outputs": [],
   "source": [
    "# Добавляем в данные столбец 'group_type', чтобы при объединении таблиц мы знали где тестовая, а где контрольные группы.\n",
    "users_test      = users_test.assign(group_type = 'test')\n",
    "users_control_1 = users_control_1.assign(group_type = 'control_1')\n",
    "users_control_2 = users_control_2.assign(group_type = 'control_2')\n",
    "\n",
    "transactions_test      = transactions_test.assign(group_type = 'test')\n",
    "transactions_control_1 = transactions_control_1.assign(group_type = 'control_1')\n",
    "transactions_control_2 = transactions_control_2.assign(group_type = 'control_2')"
   ]
  },
  {
   "cell_type": "code",
   "execution_count": 5,
   "id": "1d18996b",
   "metadata": {},
   "outputs": [],
   "source": [
    "users        = pd.concat([users_test, users_control_1, users_control_2])\n",
    "transactions = pd.concat([transactions_test, transactions_control_1, transactions_control_2])"
   ]
  },
  {
   "cell_type": "code",
   "execution_count": 6,
   "id": "744c8da1",
   "metadata": {},
   "outputs": [
    {
     "data": {
      "text/plain": [
       "0"
      ]
     },
     "execution_count": 6,
     "metadata": {},
     "output_type": "execute_result"
    }
   ],
   "source": [
    "# Проверяем на наличие дубликатов и NaN.\n",
    "users.duplicated().sum()"
   ]
  },
  {
   "cell_type": "code",
   "execution_count": 7,
   "id": "a2f2ec42",
   "metadata": {},
   "outputs": [
    {
     "data": {
      "text/plain": [
       "uid                     0\n",
       "age                     0\n",
       "attraction_coeff        0\n",
       "coins               12742\n",
       "country                 0\n",
       "visit_days           4018\n",
       "gender                  0\n",
       "age_filter_start        0\n",
       "age_filter_end          0\n",
       "views_count             0\n",
       "was_premium         11657\n",
       "is_premium          12372\n",
       "total_revenue           0\n",
       "group_type              0\n",
       "dtype: int64"
      ]
     },
     "execution_count": 7,
     "metadata": {},
     "output_type": "execute_result"
    }
   ],
   "source": [
    "users.isna().sum()"
   ]
  },
  {
   "cell_type": "code",
   "execution_count": 8,
   "id": "602042fc",
   "metadata": {},
   "outputs": [],
   "source": [
    "# Мы можем заменить NaN на 0.\n",
    "# Coins - отсутствие монет.\n",
    "# Visit_days - в эти дни не было посещений.\n",
    "# Was_premium - премиума не было.\n",
    "# Is-premium - не является премиумом.\n",
    "users = users.fillna(0)"
   ]
  },
  {
   "cell_type": "code",
   "execution_count": 9,
   "id": "0402a617",
   "metadata": {},
   "outputs": [
    {
     "data": {
      "text/plain": [
       "662"
      ]
     },
     "execution_count": 9,
     "metadata": {},
     "output_type": "execute_result"
    }
   ],
   "source": [
    "transactions.duplicated().sum()"
   ]
  },
  {
   "cell_type": "code",
   "execution_count": 10,
   "id": "58a138e3",
   "metadata": {},
   "outputs": [
    {
     "data": {
      "text/plain": [
       "uid             630\n",
       "country         630\n",
       "joined_at         0\n",
       "paid_at           0\n",
       "revenue         630\n",
       "payment_id      630\n",
       "from_page       630\n",
       "product_type    630\n",
       "group_type        0\n",
       "dtype: int64"
      ]
     },
     "execution_count": 10,
     "metadata": {},
     "output_type": "execute_result"
    }
   ],
   "source": [
    "transactions.isna().sum()"
   ]
  },
  {
   "cell_type": "code",
   "execution_count": 11,
   "id": "cac802b5",
   "metadata": {},
   "outputs": [
    {
     "name": "stdout",
     "output_type": "stream",
     "text": [
      "<class 'pandas.core.frame.DataFrame'>\n",
      "Int64Index: 1608 entries, 0 to 327\n",
      "Data columns (total 9 columns):\n",
      " #   Column        Non-Null Count  Dtype  \n",
      "---  ------        --------------  -----  \n",
      " 0   uid           978 non-null    float64\n",
      " 1   country       978 non-null    object \n",
      " 2   joined_at     1608 non-null   object \n",
      " 3   paid_at       1608 non-null   object \n",
      " 4   revenue       978 non-null    float64\n",
      " 5   payment_id    978 non-null    float64\n",
      " 6   from_page     978 non-null    object \n",
      " 7   product_type  978 non-null    object \n",
      " 8   group_type    1608 non-null   object \n",
      "dtypes: float64(3), object(6)\n",
      "memory usage: 125.6+ KB\n"
     ]
    }
   ],
   "source": [
    "transactions.info()"
   ]
  },
  {
   "cell_type": "code",
   "execution_count": 12,
   "id": "811bfb95",
   "metadata": {},
   "outputs": [],
   "source": [
    "# Оставляем только те данные, по которым были транзакции, а также удаляем дубликаты.\n",
    "transactions.drop_duplicates(inplace=True)\n",
    "transactions.dropna(inplace=True)"
   ]
  },
  {
   "cell_type": "code",
   "execution_count": 13,
   "id": "dcdadd38",
   "metadata": {},
   "outputs": [
    {
     "name": "stdout",
     "output_type": "stream",
     "text": [
      "<class 'pandas.core.frame.DataFrame'>\n",
      "Int64Index: 945 entries, 0 to 327\n",
      "Data columns (total 9 columns):\n",
      " #   Column        Non-Null Count  Dtype  \n",
      "---  ------        --------------  -----  \n",
      " 0   uid           945 non-null    float64\n",
      " 1   country       945 non-null    object \n",
      " 2   joined_at     945 non-null    object \n",
      " 3   paid_at       945 non-null    object \n",
      " 4   revenue       945 non-null    float64\n",
      " 5   payment_id    945 non-null    float64\n",
      " 6   from_page     945 non-null    object \n",
      " 7   product_type  945 non-null    object \n",
      " 8   group_type    945 non-null    object \n",
      "dtypes: float64(3), object(6)\n",
      "memory usage: 73.8+ KB\n"
     ]
    }
   ],
   "source": [
    "transactions.info()"
   ]
  },
  {
   "cell_type": "code",
   "execution_count": 14,
   "id": "9c0d9021",
   "metadata": {},
   "outputs": [],
   "source": [
    "# Преобразуем данные.\n",
    "transactions.uid       = transactions.uid.astype('int64')\n",
    "transactions.joined_at = pd.to_datetime(transactions.joined_at)\n",
    "transactions.paid_at   = pd.to_datetime(transactions.paid_at)"
   ]
  },
  {
   "cell_type": "markdown",
   "id": "f1386c9c",
   "metadata": {},
   "source": [
    "### Проверим данные на выбросы."
   ]
  },
  {
   "cell_type": "code",
   "execution_count": 15,
   "id": "0616d8ed",
   "metadata": {},
   "outputs": [
    {
     "data": {
      "text/plain": [
       "<AxesSubplot:xlabel='total_revenue', ylabel='group_type'>"
      ]
     },
     "execution_count": 15,
     "metadata": {},
     "output_type": "execute_result"
    },
    {
     "data": {
      "image/png": "[encoded data removed]",
      "text/plain": [
       "<Figure size 842.4x595.44 with 1 Axes>"
      ]
     },
     "metadata": {},
     "output_type": "display_data"
    }
   ],
   "source": [
    "sns.set(rc={'figure.figsize':(11.7,8.27)})\n",
    "sns.boxplot(x=\"total_revenue\", y=\"group_type\", data=users.query('total_revenue > 0'), orient=\"h\", palette=\"Set3\")"
   ]
  },
  {
   "cell_type": "markdown",
   "id": "271b7d7d",
   "metadata": {},
   "source": [
    "Предположительно, такой сильный выброс - ошибочный."
   ]
  },
  {
   "cell_type": "code",
   "execution_count": 16,
   "id": "967b7ed2",
   "metadata": {},
   "outputs": [
    {
     "data": {
      "text/html": [
       "<div>\n",
       "<style scoped>\n",
       "    .dataframe tbody tr th:only-of-type {\n",
       "        vertical-align: middle;\n",
       "    }\n",
       "\n",
       "    .dataframe tbody tr th {\n",
       "        vertical-align: top;\n",
       "    }\n",
       "\n",
       "    .dataframe thead th {\n",
       "        text-align: right;\n",
       "    }\n",
       "</style>\n",
       "<table border=\"1\" class=\"dataframe\">\n",
       "  <thead>\n",
       "    <tr style=\"text-align: right;\">\n",
       "      <th></th>\n",
       "      <th>uid</th>\n",
       "      <th>age</th>\n",
       "      <th>attraction_coeff</th>\n",
       "      <th>coins</th>\n",
       "      <th>country</th>\n",
       "      <th>visit_days</th>\n",
       "      <th>gender</th>\n",
       "      <th>age_filter_start</th>\n",
       "      <th>age_filter_end</th>\n",
       "      <th>views_count</th>\n",
       "      <th>was_premium</th>\n",
       "      <th>is_premium</th>\n",
       "      <th>total_revenue</th>\n",
       "      <th>group_type</th>\n",
       "    </tr>\n",
       "  </thead>\n",
       "  <tbody>\n",
       "    <tr>\n",
       "      <th>1427</th>\n",
       "      <td>892333905</td>\n",
       "      <td>22</td>\n",
       "      <td>175</td>\n",
       "      <td>3608.0</td>\n",
       "      <td>Italy</td>\n",
       "      <td>1,2,3,4,5,6,7,15</td>\n",
       "      <td>1</td>\n",
       "      <td>19</td>\n",
       "      <td>25</td>\n",
       "      <td>575</td>\n",
       "      <td>1.0</td>\n",
       "      <td>1.0</td>\n",
       "      <td>486330</td>\n",
       "      <td>control_1</td>\n",
       "    </tr>\n",
       "  </tbody>\n",
       "</table>\n",
       "</div>"
      ],
      "text/plain": [
       "            uid  age  attraction_coeff   coins country        visit_days  \\\n",
       "1427  892333905   22               175  3608.0   Italy  1,2,3,4,5,6,7,15   \n",
       "\n",
       "      gender  age_filter_start  age_filter_end  views_count  was_premium  \\\n",
       "1427       1                19              25          575          1.0   \n",
       "\n",
       "      is_premium  total_revenue group_type  \n",
       "1427         1.0         486330  control_1  "
      ]
     },
     "execution_count": 16,
     "metadata": {},
     "output_type": "execute_result"
    }
   ],
   "source": [
    "users.query('group_type == \"control_1\"').total_revenue.max()\n",
    "users.query('total_revenue == 486330')"
   ]
  },
  {
   "cell_type": "code",
   "execution_count": 17,
   "id": "978a0840",
   "metadata": {},
   "outputs": [],
   "source": [
    "users = users.drop(labels = [1427],axis = 0)"
   ]
  },
  {
   "cell_type": "code",
   "execution_count": 18,
   "id": "8b575ed6",
   "metadata": {
    "scrolled": false
   },
   "outputs": [
    {
     "data": {
      "text/plain": [
       "<AxesSubplot:xlabel='total_revenue', ylabel='group_type'>"
      ]
     },
     "execution_count": 18,
     "metadata": {},
     "output_type": "execute_result"
    },
    {
     "data": {
      "image/png": "[encoded data removed]",
      "text/plain": [
       "<Figure size 842.4x595.44 with 1 Axes>"
      ]
     },
     "metadata": {},
     "output_type": "display_data"
    }
   ],
   "source": [
    "sns.set(rc={'figure.figsize':(11.7,8.27)})\n",
    "sns.boxplot(x=\"total_revenue\", y=\"group_type\", data=users.query('total_revenue > 0'), orient=\"h\", palette=\"Set3\")"
   ]
  },
  {
   "cell_type": "code",
   "execution_count": 19,
   "id": "27d7334a",
   "metadata": {},
   "outputs": [
    {
     "data": {
      "text/html": [
       "<div>\n",
       "<style scoped>\n",
       "    .dataframe tbody tr th:only-of-type {\n",
       "        vertical-align: middle;\n",
       "    }\n",
       "\n",
       "    .dataframe tbody tr th {\n",
       "        vertical-align: top;\n",
       "    }\n",
       "\n",
       "    .dataframe thead th {\n",
       "        text-align: right;\n",
       "    }\n",
       "</style>\n",
       "<table border=\"1\" class=\"dataframe\">\n",
       "  <thead>\n",
       "    <tr style=\"text-align: right;\">\n",
       "      <th></th>\n",
       "      <th>uid</th>\n",
       "      <th>country</th>\n",
       "      <th>joined_at</th>\n",
       "      <th>paid_at</th>\n",
       "      <th>revenue</th>\n",
       "      <th>payment_id</th>\n",
       "      <th>from_page</th>\n",
       "      <th>product_type</th>\n",
       "      <th>group_type</th>\n",
       "    </tr>\n",
       "  </thead>\n",
       "  <tbody>\n",
       "    <tr>\n",
       "      <th>6</th>\n",
       "      <td>892333905</td>\n",
       "      <td>Italy</td>\n",
       "      <td>2017-10-16 01:38:00</td>\n",
       "      <td>2017-10-16 02:08:00</td>\n",
       "      <td>12610.0</td>\n",
       "      <td>19.0</td>\n",
       "      <td>gifts</td>\n",
       "      <td>coins</td>\n",
       "      <td>control_1</td>\n",
       "    </tr>\n",
       "    <tr>\n",
       "      <th>13</th>\n",
       "      <td>892333905</td>\n",
       "      <td>Italy</td>\n",
       "      <td>2017-10-16 01:38:00</td>\n",
       "      <td>2017-10-16 01:44:00</td>\n",
       "      <td>3783.0</td>\n",
       "      <td>67.0</td>\n",
       "      <td>menu</td>\n",
       "      <td>other_type</td>\n",
       "      <td>control_1</td>\n",
       "    </tr>\n",
       "    <tr>\n",
       "      <th>28</th>\n",
       "      <td>892333905</td>\n",
       "      <td>Italy</td>\n",
       "      <td>2017-10-16 01:38:00</td>\n",
       "      <td>2017-10-16 01:57:00</td>\n",
       "      <td>3783.0</td>\n",
       "      <td>67.0</td>\n",
       "      <td>empty_admins</td>\n",
       "      <td>other_type</td>\n",
       "      <td>control_1</td>\n",
       "    </tr>\n",
       "    <tr>\n",
       "      <th>43</th>\n",
       "      <td>892333905</td>\n",
       "      <td>Italy</td>\n",
       "      <td>2017-10-16 01:38:00</td>\n",
       "      <td>2017-10-16 01:58:00</td>\n",
       "      <td>3783.0</td>\n",
       "      <td>67.0</td>\n",
       "      <td>empty_admins</td>\n",
       "      <td>other_type</td>\n",
       "      <td>control_1</td>\n",
       "    </tr>\n",
       "    <tr>\n",
       "      <th>49</th>\n",
       "      <td>892333905</td>\n",
       "      <td>Italy</td>\n",
       "      <td>2017-10-16 01:38:00</td>\n",
       "      <td>2017-10-16 01:42:00</td>\n",
       "      <td>3783.0</td>\n",
       "      <td>67.0</td>\n",
       "      <td>menu</td>\n",
       "      <td>other_type</td>\n",
       "      <td>control_1</td>\n",
       "    </tr>\n",
       "    <tr>\n",
       "      <th>63</th>\n",
       "      <td>892333905</td>\n",
       "      <td>Italy</td>\n",
       "      <td>2017-10-16 01:38:00</td>\n",
       "      <td>2017-10-16 22:35:00</td>\n",
       "      <td>31525.0</td>\n",
       "      <td>19.0</td>\n",
       "      <td>menu</td>\n",
       "      <td>coins</td>\n",
       "      <td>control_1</td>\n",
       "    </tr>\n",
       "    <tr>\n",
       "      <th>76</th>\n",
       "      <td>892333905</td>\n",
       "      <td>Italy</td>\n",
       "      <td>2017-10-16 01:38:00</td>\n",
       "      <td>2017-10-16 18:42:00</td>\n",
       "      <td>31525.0</td>\n",
       "      <td>19.0</td>\n",
       "      <td>fans</td>\n",
       "      <td>coins</td>\n",
       "      <td>control_1</td>\n",
       "    </tr>\n",
       "    <tr>\n",
       "      <th>126</th>\n",
       "      <td>892333905</td>\n",
       "      <td>Italy</td>\n",
       "      <td>2017-10-16 01:38:00</td>\n",
       "      <td>2017-10-16 22:39:00</td>\n",
       "      <td>19773.0</td>\n",
       "      <td>146.0</td>\n",
       "      <td>menu</td>\n",
       "      <td>coins</td>\n",
       "      <td>control_1</td>\n",
       "    </tr>\n",
       "    <tr>\n",
       "      <th>137</th>\n",
       "      <td>892333905</td>\n",
       "      <td>Italy</td>\n",
       "      <td>2017-10-16 01:38:00</td>\n",
       "      <td>2017-10-16 02:08:00</td>\n",
       "      <td>31525.0</td>\n",
       "      <td>19.0</td>\n",
       "      <td>gifts</td>\n",
       "      <td>coins</td>\n",
       "      <td>control_1</td>\n",
       "    </tr>\n",
       "    <tr>\n",
       "      <th>143</th>\n",
       "      <td>892333905</td>\n",
       "      <td>Italy</td>\n",
       "      <td>2017-10-16 01:38:00</td>\n",
       "      <td>2017-10-16 13:10:00</td>\n",
       "      <td>63037.0</td>\n",
       "      <td>147.0</td>\n",
       "      <td>no_sympathy</td>\n",
       "      <td>premium_no_trial</td>\n",
       "      <td>control_1</td>\n",
       "    </tr>\n",
       "    <tr>\n",
       "      <th>149</th>\n",
       "      <td>892333905</td>\n",
       "      <td>Italy</td>\n",
       "      <td>2017-10-16 01:38:00</td>\n",
       "      <td>2017-10-16 02:08:00</td>\n",
       "      <td>1261.0</td>\n",
       "      <td>19.0</td>\n",
       "      <td>gifts</td>\n",
       "      <td>coins</td>\n",
       "      <td>control_1</td>\n",
       "    </tr>\n",
       "    <tr>\n",
       "      <th>166</th>\n",
       "      <td>892333905</td>\n",
       "      <td>Italy</td>\n",
       "      <td>2017-10-16 01:38:00</td>\n",
       "      <td>2017-10-17 02:23:00</td>\n",
       "      <td>31525.0</td>\n",
       "      <td>19.0</td>\n",
       "      <td>menu</td>\n",
       "      <td>coins</td>\n",
       "      <td>control_1</td>\n",
       "    </tr>\n",
       "    <tr>\n",
       "      <th>256</th>\n",
       "      <td>892333905</td>\n",
       "      <td>Italy</td>\n",
       "      <td>2017-10-16 01:38:00</td>\n",
       "      <td>2017-10-17 00:40:00</td>\n",
       "      <td>31525.0</td>\n",
       "      <td>19.0</td>\n",
       "      <td>menu</td>\n",
       "      <td>coins</td>\n",
       "      <td>control_1</td>\n",
       "    </tr>\n",
       "    <tr>\n",
       "      <th>289</th>\n",
       "      <td>892333905</td>\n",
       "      <td>Italy</td>\n",
       "      <td>2017-10-16 01:38:00</td>\n",
       "      <td>2017-10-16 02:08:00</td>\n",
       "      <td>3783.0</td>\n",
       "      <td>67.0</td>\n",
       "      <td>gifts</td>\n",
       "      <td>other_type</td>\n",
       "      <td>control_1</td>\n",
       "    </tr>\n",
       "    <tr>\n",
       "      <th>297</th>\n",
       "      <td>892333905</td>\n",
       "      <td>Italy</td>\n",
       "      <td>2017-10-16 01:38:00</td>\n",
       "      <td>2017-10-16 02:26:00</td>\n",
       "      <td>31525.0</td>\n",
       "      <td>19.0</td>\n",
       "      <td>menu</td>\n",
       "      <td>coins</td>\n",
       "      <td>control_1</td>\n",
       "    </tr>\n",
       "    <tr>\n",
       "      <th>306</th>\n",
       "      <td>892333905</td>\n",
       "      <td>Italy</td>\n",
       "      <td>2017-10-16 01:38:00</td>\n",
       "      <td>2017-10-16 10:24:00</td>\n",
       "      <td>31525.0</td>\n",
       "      <td>19.0</td>\n",
       "      <td>menu</td>\n",
       "      <td>coins</td>\n",
       "      <td>control_1</td>\n",
       "    </tr>\n",
       "    <tr>\n",
       "      <th>316</th>\n",
       "      <td>892333905</td>\n",
       "      <td>Italy</td>\n",
       "      <td>2017-10-16 01:38:00</td>\n",
       "      <td>2017-10-16 02:52:00</td>\n",
       "      <td>31525.0</td>\n",
       "      <td>19.0</td>\n",
       "      <td>menu</td>\n",
       "      <td>coins</td>\n",
       "      <td>control_1</td>\n",
       "    </tr>\n",
       "    <tr>\n",
       "      <th>335</th>\n",
       "      <td>892333905</td>\n",
       "      <td>Italy</td>\n",
       "      <td>2017-10-16 01:38:00</td>\n",
       "      <td>2017-10-17 20:53:00</td>\n",
       "      <td>31525.0</td>\n",
       "      <td>19.0</td>\n",
       "      <td>menu</td>\n",
       "      <td>coins</td>\n",
       "      <td>control_1</td>\n",
       "    </tr>\n",
       "    <tr>\n",
       "      <th>358</th>\n",
       "      <td>892333905</td>\n",
       "      <td>Italy</td>\n",
       "      <td>2017-10-16 01:38:00</td>\n",
       "      <td>2017-10-17 02:23:00</td>\n",
       "      <td>3783.0</td>\n",
       "      <td>67.0</td>\n",
       "      <td>menu</td>\n",
       "      <td>other_type</td>\n",
       "      <td>control_1</td>\n",
       "    </tr>\n",
       "  </tbody>\n",
       "</table>\n",
       "</div>"
      ],
      "text/plain": [
       "           uid country           joined_at             paid_at  revenue  \\\n",
       "6    892333905   Italy 2017-10-16 01:38:00 2017-10-16 02:08:00  12610.0   \n",
       "13   892333905   Italy 2017-10-16 01:38:00 2017-10-16 01:44:00   3783.0   \n",
       "28   892333905   Italy 2017-10-16 01:38:00 2017-10-16 01:57:00   3783.0   \n",
       "43   892333905   Italy 2017-10-16 01:38:00 2017-10-16 01:58:00   3783.0   \n",
       "49   892333905   Italy 2017-10-16 01:38:00 2017-10-16 01:42:00   3783.0   \n",
       "63   892333905   Italy 2017-10-16 01:38:00 2017-10-16 22:35:00  31525.0   \n",
       "76   892333905   Italy 2017-10-16 01:38:00 2017-10-16 18:42:00  31525.0   \n",
       "126  892333905   Italy 2017-10-16 01:38:00 2017-10-16 22:39:00  19773.0   \n",
       "137  892333905   Italy 2017-10-16 01:38:00 2017-10-16 02:08:00  31525.0   \n",
       "143  892333905   Italy 2017-10-16 01:38:00 2017-10-16 13:10:00  63037.0   \n",
       "149  892333905   Italy 2017-10-16 01:38:00 2017-10-16 02:08:00   1261.0   \n",
       "166  892333905   Italy 2017-10-16 01:38:00 2017-10-17 02:23:00  31525.0   \n",
       "256  892333905   Italy 2017-10-16 01:38:00 2017-10-17 00:40:00  31525.0   \n",
       "289  892333905   Italy 2017-10-16 01:38:00 2017-10-16 02:08:00   3783.0   \n",
       "297  892333905   Italy 2017-10-16 01:38:00 2017-10-16 02:26:00  31525.0   \n",
       "306  892333905   Italy 2017-10-16 01:38:00 2017-10-16 10:24:00  31525.0   \n",
       "316  892333905   Italy 2017-10-16 01:38:00 2017-10-16 02:52:00  31525.0   \n",
       "335  892333905   Italy 2017-10-16 01:38:00 2017-10-17 20:53:00  31525.0   \n",
       "358  892333905   Italy 2017-10-16 01:38:00 2017-10-17 02:23:00   3783.0   \n",
       "\n",
       "     payment_id     from_page      product_type group_type  \n",
       "6          19.0         gifts             coins  control_1  \n",
       "13         67.0          menu        other_type  control_1  \n",
       "28         67.0  empty_admins        other_type  control_1  \n",
       "43         67.0  empty_admins        other_type  control_1  \n",
       "49         67.0          menu        other_type  control_1  \n",
       "63         19.0          menu             coins  control_1  \n",
       "76         19.0          fans             coins  control_1  \n",
       "126       146.0          menu             coins  control_1  \n",
       "137        19.0         gifts             coins  control_1  \n",
       "143       147.0   no_sympathy  premium_no_trial  control_1  \n",
       "149        19.0         gifts             coins  control_1  \n",
       "166        19.0          menu             coins  control_1  \n",
       "256        19.0          menu             coins  control_1  \n",
       "289        67.0         gifts        other_type  control_1  \n",
       "297        19.0          menu             coins  control_1  \n",
       "306        19.0          menu             coins  control_1  \n",
       "316        19.0          menu             coins  control_1  \n",
       "335        19.0          menu             coins  control_1  \n",
       "358        67.0          menu        other_type  control_1  "
      ]
     },
     "execution_count": 19,
     "metadata": {},
     "output_type": "execute_result"
    }
   ],
   "source": [
    "transactions.query('uid == 892333905')"
   ]
  },
  {
   "cell_type": "code",
   "execution_count": 20,
   "id": "aabaae53",
   "metadata": {},
   "outputs": [],
   "source": [
    "transactions = transactions.drop(labels = [6,13,28,43,49,63,76,126,137,143,149,166,256,289,297,306,316,335,358],axis = 0)"
   ]
  },
  {
   "cell_type": "code",
   "execution_count": 21,
   "id": "1ab8bc97",
   "metadata": {},
   "outputs": [
    {
     "data": {
      "text/plain": [
       "<AxesSubplot:xlabel='revenue', ylabel='group_type'>"
      ]
     },
     "execution_count": 21,
     "metadata": {},
     "output_type": "execute_result"
    },
    {
     "data": {
      "image/png": "[encoded data removed]",
      "text/plain": [
       "<Figure size 842.4x595.44 with 1 Axes>"
      ]
     },
     "metadata": {},
     "output_type": "display_data"
    }
   ],
   "source": [
    "sns.set(rc={'figure.figsize':(11.7,8.27)})\n",
    "sns.boxplot(x=\"revenue\", y=\"group_type\", data=transactions.query('revenue > 0'), orient=\"h\", palette=\"Set3\")"
   ]
  },
  {
   "cell_type": "markdown",
   "id": "4fcd12f4",
   "metadata": {},
   "source": [
    "#### После того, как подготовили данные, определим метрики для аналитики приложения.\n",
    "Мы изменили стоимость премиум подписки, следовательно мы хотим увидеть:\n",
    "- как изменились показатели прибыли,\n",
    "- как изменились показатели конверсии в платную премиум-подписку.\n",
    "\n",
    "Далее проанализируем, имеет ли нововведение смысл среди каких-либо конкретных групп пользователей."
   ]
  },
  {
   "cell_type": "code",
   "execution_count": 22,
   "id": "1f154e97",
   "metadata": {},
   "outputs": [
    {
     "data": {
      "text/html": [
       "<div>\n",
       "<style scoped>\n",
       "    .dataframe tbody tr th:only-of-type {\n",
       "        vertical-align: middle;\n",
       "    }\n",
       "\n",
       "    .dataframe tbody tr th {\n",
       "        vertical-align: top;\n",
       "    }\n",
       "\n",
       "    .dataframe thead th {\n",
       "        text-align: right;\n",
       "    }\n",
       "</style>\n",
       "<table border=\"1\" class=\"dataframe\">\n",
       "  <thead>\n",
       "    <tr style=\"text-align: right;\">\n",
       "      <th></th>\n",
       "      <th>uid</th>\n",
       "      <th>age</th>\n",
       "      <th>attraction_coeff</th>\n",
       "      <th>coins</th>\n",
       "      <th>country</th>\n",
       "      <th>visit_days</th>\n",
       "      <th>gender</th>\n",
       "      <th>age_filter_start</th>\n",
       "      <th>age_filter_end</th>\n",
       "      <th>views_count</th>\n",
       "      <th>was_premium</th>\n",
       "      <th>is_premium</th>\n",
       "      <th>total_revenue</th>\n",
       "      <th>group_type</th>\n",
       "    </tr>\n",
       "  </thead>\n",
       "  <tbody>\n",
       "    <tr>\n",
       "      <th>0</th>\n",
       "      <td>892309896</td>\n",
       "      <td>27</td>\n",
       "      <td>685</td>\n",
       "      <td>0.0</td>\n",
       "      <td>United States of America</td>\n",
       "      <td>1,2,3,4,5,6,7,8,9,10,11,12,16,17</td>\n",
       "      <td>1</td>\n",
       "      <td>24</td>\n",
       "      <td>30</td>\n",
       "      <td>89</td>\n",
       "      <td>0.0</td>\n",
       "      <td>0.0</td>\n",
       "      <td>0</td>\n",
       "      <td>test</td>\n",
       "    </tr>\n",
       "    <tr>\n",
       "      <th>1</th>\n",
       "      <td>892044516</td>\n",
       "      <td>27</td>\n",
       "      <td>0</td>\n",
       "      <td>0.0</td>\n",
       "      <td>Germany</td>\n",
       "      <td>0</td>\n",
       "      <td>1</td>\n",
       "      <td>24</td>\n",
       "      <td>30</td>\n",
       "      <td>0</td>\n",
       "      <td>0.0</td>\n",
       "      <td>0.0</td>\n",
       "      <td>0</td>\n",
       "      <td>test</td>\n",
       "    </tr>\n",
       "    <tr>\n",
       "      <th>2</th>\n",
       "      <td>892185708</td>\n",
       "      <td>45</td>\n",
       "      <td>44</td>\n",
       "      <td>0.0</td>\n",
       "      <td>Israel</td>\n",
       "      <td>1,3,4,6,7,8,10,11,12,13,14,15,16,17,18,19,20,2...</td>\n",
       "      <td>1</td>\n",
       "      <td>42</td>\n",
       "      <td>48</td>\n",
       "      <td>68</td>\n",
       "      <td>0.0</td>\n",
       "      <td>0.0</td>\n",
       "      <td>0</td>\n",
       "      <td>test</td>\n",
       "    </tr>\n",
       "    <tr>\n",
       "      <th>3</th>\n",
       "      <td>892130292</td>\n",
       "      <td>32</td>\n",
       "      <td>0</td>\n",
       "      <td>0.0</td>\n",
       "      <td>United States of America</td>\n",
       "      <td>1,2,3,4,5,6,7,8,9,10,11,12</td>\n",
       "      <td>1</td>\n",
       "      <td>29</td>\n",
       "      <td>35</td>\n",
       "      <td>0</td>\n",
       "      <td>0.0</td>\n",
       "      <td>0.0</td>\n",
       "      <td>0</td>\n",
       "      <td>test</td>\n",
       "    </tr>\n",
       "    <tr>\n",
       "      <th>4</th>\n",
       "      <td>891406035</td>\n",
       "      <td>27</td>\n",
       "      <td>1000</td>\n",
       "      <td>0.0</td>\n",
       "      <td>France</td>\n",
       "      <td>0</td>\n",
       "      <td>1</td>\n",
       "      <td>24</td>\n",
       "      <td>30</td>\n",
       "      <td>1</td>\n",
       "      <td>1.0</td>\n",
       "      <td>0.0</td>\n",
       "      <td>0</td>\n",
       "      <td>test</td>\n",
       "    </tr>\n",
       "  </tbody>\n",
       "</table>\n",
       "</div>"
      ],
      "text/plain": [
       "         uid  age  attraction_coeff  coins                   country  \\\n",
       "0  892309896   27               685    0.0  United States of America   \n",
       "1  892044516   27                 0    0.0                   Germany   \n",
       "2  892185708   45                44    0.0                    Israel   \n",
       "3  892130292   32                 0    0.0  United States of America   \n",
       "4  891406035   27              1000    0.0                    France   \n",
       "\n",
       "                                          visit_days  gender  \\\n",
       "0                   1,2,3,4,5,6,7,8,9,10,11,12,16,17       1   \n",
       "1                                                  0       1   \n",
       "2  1,3,4,6,7,8,10,11,12,13,14,15,16,17,18,19,20,2...       1   \n",
       "3                         1,2,3,4,5,6,7,8,9,10,11,12       1   \n",
       "4                                                  0       1   \n",
       "\n",
       "   age_filter_start  age_filter_end  views_count  was_premium  is_premium  \\\n",
       "0                24              30           89          0.0         0.0   \n",
       "1                24              30            0          0.0         0.0   \n",
       "2                42              48           68          0.0         0.0   \n",
       "3                29              35            0          0.0         0.0   \n",
       "4                24              30            1          1.0         0.0   \n",
       "\n",
       "   total_revenue group_type  \n",
       "0              0       test  \n",
       "1              0       test  \n",
       "2              0       test  \n",
       "3              0       test  \n",
       "4              0       test  "
      ]
     },
     "execution_count": 22,
     "metadata": {},
     "output_type": "execute_result"
    }
   ],
   "source": [
    "users.head(5)"
   ]
  },
  {
   "cell_type": "code",
   "execution_count": 23,
   "id": "be1fdfc8",
   "metadata": {},
   "outputs": [
    {
     "data": {
      "text/html": [
       "<div>\n",
       "<style scoped>\n",
       "    .dataframe tbody tr th:only-of-type {\n",
       "        vertical-align: middle;\n",
       "    }\n",
       "\n",
       "    .dataframe tbody tr th {\n",
       "        vertical-align: top;\n",
       "    }\n",
       "\n",
       "    .dataframe thead th {\n",
       "        text-align: right;\n",
       "    }\n",
       "</style>\n",
       "<table border=\"1\" class=\"dataframe\">\n",
       "  <thead>\n",
       "    <tr style=\"text-align: right;\">\n",
       "      <th></th>\n",
       "      <th>uid</th>\n",
       "      <th>country</th>\n",
       "      <th>joined_at</th>\n",
       "      <th>paid_at</th>\n",
       "      <th>revenue</th>\n",
       "      <th>payment_id</th>\n",
       "      <th>from_page</th>\n",
       "      <th>product_type</th>\n",
       "      <th>group_type</th>\n",
       "    </tr>\n",
       "  </thead>\n",
       "  <tbody>\n",
       "    <tr>\n",
       "      <th>0</th>\n",
       "      <td>891345942</td>\n",
       "      <td>Italy</td>\n",
       "      <td>2017-05-11 13:00:00</td>\n",
       "      <td>2017-11-13 15:04:00</td>\n",
       "      <td>12909.0</td>\n",
       "      <td>147.0</td>\n",
       "      <td>trial_vip_popup</td>\n",
       "      <td>trial_premium</td>\n",
       "      <td>test</td>\n",
       "    </tr>\n",
       "    <tr>\n",
       "      <th>1</th>\n",
       "      <td>892054251</td>\n",
       "      <td>United States of America</td>\n",
       "      <td>2017-10-22 00:33:00</td>\n",
       "      <td>2017-10-30 01:37:00</td>\n",
       "      <td>13923.0</td>\n",
       "      <td>147.0</td>\n",
       "      <td>trial_vip_popup</td>\n",
       "      <td>trial_premium</td>\n",
       "      <td>test</td>\n",
       "    </tr>\n",
       "    <tr>\n",
       "      <th>2</th>\n",
       "      <td>892236423</td>\n",
       "      <td>United States of America</td>\n",
       "      <td>2017-10-18 01:09:00</td>\n",
       "      <td>2017-10-23 00:15:00</td>\n",
       "      <td>3783.0</td>\n",
       "      <td>67.0</td>\n",
       "      <td>menu</td>\n",
       "      <td>other_type</td>\n",
       "      <td>test</td>\n",
       "    </tr>\n",
       "    <tr>\n",
       "      <th>3</th>\n",
       "      <td>892236423</td>\n",
       "      <td>United States of America</td>\n",
       "      <td>2017-10-18 01:09:00</td>\n",
       "      <td>2017-10-27 22:38:00</td>\n",
       "      <td>3783.0</td>\n",
       "      <td>67.0</td>\n",
       "      <td>menu</td>\n",
       "      <td>other_type</td>\n",
       "      <td>test</td>\n",
       "    </tr>\n",
       "    <tr>\n",
       "      <th>4</th>\n",
       "      <td>892168170</td>\n",
       "      <td>United States of America</td>\n",
       "      <td>2017-10-19 17:10:00</td>\n",
       "      <td>2017-10-27 19:10:00</td>\n",
       "      <td>9087.0</td>\n",
       "      <td>147.0</td>\n",
       "      <td>trial_vip_popup</td>\n",
       "      <td>trial_premium</td>\n",
       "      <td>test</td>\n",
       "    </tr>\n",
       "  </tbody>\n",
       "</table>\n",
       "</div>"
      ],
      "text/plain": [
       "         uid                   country           joined_at  \\\n",
       "0  891345942                     Italy 2017-05-11 13:00:00   \n",
       "1  892054251  United States of America 2017-10-22 00:33:00   \n",
       "2  892236423  United States of America 2017-10-18 01:09:00   \n",
       "3  892236423  United States of America 2017-10-18 01:09:00   \n",
       "4  892168170  United States of America 2017-10-19 17:10:00   \n",
       "\n",
       "              paid_at  revenue  payment_id        from_page   product_type  \\\n",
       "0 2017-11-13 15:04:00  12909.0       147.0  trial_vip_popup  trial_premium   \n",
       "1 2017-10-30 01:37:00  13923.0       147.0  trial_vip_popup  trial_premium   \n",
       "2 2017-10-23 00:15:00   3783.0        67.0             menu     other_type   \n",
       "3 2017-10-27 22:38:00   3783.0        67.0             menu     other_type   \n",
       "4 2017-10-27 19:10:00   9087.0       147.0  trial_vip_popup  trial_premium   \n",
       "\n",
       "  group_type  \n",
       "0       test  \n",
       "1       test  \n",
       "2       test  \n",
       "3       test  \n",
       "4       test  "
      ]
     },
     "execution_count": 23,
     "metadata": {},
     "output_type": "execute_result"
    }
   ],
   "source": [
    "transactions.head(5)"
   ]
  },
  {
   "cell_type": "code",
   "execution_count": 24,
   "id": "92d73d20",
   "metadata": {
    "scrolled": true
   },
   "outputs": [
    {
     "name": "stdout",
     "output_type": "stream",
     "text": [
      "534.2043185511957\n",
      "482.81562572021204\n",
      "450.48979591836735\n"
     ]
    }
   ],
   "source": [
    "# Рассчитаем ARPU для тестовой группы\n",
    "print(users.query('group_type == \"test\"').total_revenue.sum() / users.query('group_type == \"test\"').uid.nunique())\n",
    "\n",
    "# Рассчитаем ARPU для первой контрольной группы\n",
    "print(users.query('group_type == \"control_1\"').total_revenue.sum() / users.query('group_type == \"control_1\"').uid.nunique())\n",
    "\n",
    "# Рассчитаем ARPU для второй контрольной группы\n",
    "print(users.query('group_type == \"control_2\"').total_revenue.sum() / users.query('group_type == \"control_2\"').uid.nunique())"
   ]
  },
  {
   "cell_type": "markdown",
   "id": "393041c5",
   "metadata": {},
   "source": [
    "Согласно полученным результатам, ARPU в тестовой группе выше, чем в контрольных группах."
   ]
  },
  {
   "cell_type": "markdown",
   "id": "14d37121",
   "metadata": {},
   "source": [
    "###### Для сравнения рассчитаем ARPPU для тестовой и контрольных групп."
   ]
  },
  {
   "cell_type": "code",
   "execution_count": 25,
   "id": "4fe0e320",
   "metadata": {},
   "outputs": [
    {
     "name": "stdout",
     "output_type": "stream",
     "text": [
      "15759.027397260274\n",
      "10968.256544502618\n",
      "10269.72192513369\n"
     ]
    }
   ],
   "source": [
    "# ARPPU для тестовой группы\n",
    "print(users.query('group_type == \"test\" and total_revenue > 0').total_revenue.sum() / users.query('group_type == \"test\" and total_revenue > 0').uid.nunique())\n",
    "\n",
    "# ARPPU для первой контрольной группы\n",
    "print(users.query('group_type == \"control_1\" and total_revenue > 0').total_revenue.sum() / users.query('group_type == \"control_1\" and total_revenue > 0').uid.nunique())\n",
    "\n",
    "# ARPPU для второй контрольной группы\n",
    "print(users.query('group_type == \"control_2\" and total_revenue > 0').total_revenue.sum() / users.query('group_type == \"control_2\" and total_revenue > 0').uid.nunique())"
   ]
  },
  {
   "cell_type": "markdown",
   "id": "a3a5a6eb",
   "metadata": {},
   "source": [
    "По результатам осуществленных расчетов мы установили, что ARPPU в тестовой группе выше, чем в контрольных.\n",
    "C учетом полученных результатов имеет смысл сравнить долю платящих пользователей."
   ]
  },
  {
   "cell_type": "code",
   "execution_count": 26,
   "id": "d7041aa4",
   "metadata": {},
   "outputs": [],
   "source": [
    "# Paying Share = ARPU / ARPPU * 100. Рассчитаем для трех групп пользователей.\n",
    "paying_share_test      = round(534.0803156917364 / 15759.027397260274 * 100, 2)\n",
    "paying_share_сontrol_1 = round(594.7619815668203 / 13444.098958333334 * 100, 2)\n",
    "paying_share_сontrol_2 = round(450.3841463414634 / 10269.72192513369  * 100, 2)"
   ]
  },
  {
   "cell_type": "code",
   "execution_count": 27,
   "id": "4838a76d",
   "metadata": {},
   "outputs": [
    {
     "name": "stdout",
     "output_type": "stream",
     "text": [
      "3.39\n",
      "4.42\n",
      "4.39\n"
     ]
    }
   ],
   "source": [
    "print(paying_share_test)\n",
    "print(paying_share_сontrol_1)\n",
    "print(paying_share_сontrol_2)"
   ]
  },
  {
   "cell_type": "markdown",
   "id": "5c7e3cf6",
   "metadata": {},
   "source": [
    "Таким образом, несмотря на то, что у нас увеличились показатели ARPU и ARPPU, доля платящих клиентов в тестовой группе снизилась на ~0.8 - 1 п.п. по сравнению c контрольными группами.\n",
    "Далее проверим как отразились изменения на конкретных группах пользователей."
   ]
  },
  {
   "cell_type": "markdown",
   "id": "85f4f6d2",
   "metadata": {},
   "source": [
    "### Какие могут быть группы пользователей:\n",
    "- по странам;\n",
    "- по возрасту;\n",
    "- по коэффициенту привлекательности;\n",
    "- по полу."
   ]
  },
  {
   "cell_type": "markdown",
   "id": "d69e4dd2",
   "metadata": {},
   "source": [
    "# Проанализируем пользователей по двум группам - по возврасту и по странам."
   ]
  },
  {
   "cell_type": "markdown",
   "id": "291a9d00",
   "metadata": {},
   "source": [
    "## Возрастной анализ."
   ]
  },
  {
   "cell_type": "code",
   "execution_count": 28,
   "id": "84e084a0",
   "metadata": {},
   "outputs": [
    {
     "data": {
      "text/html": [
       "<div>\n",
       "<style scoped>\n",
       "    .dataframe tbody tr th:only-of-type {\n",
       "        vertical-align: middle;\n",
       "    }\n",
       "\n",
       "    .dataframe tbody tr th {\n",
       "        vertical-align: top;\n",
       "    }\n",
       "\n",
       "    .dataframe thead th {\n",
       "        text-align: right;\n",
       "    }\n",
       "</style>\n",
       "<table border=\"1\" class=\"dataframe\">\n",
       "  <thead>\n",
       "    <tr style=\"text-align: right;\">\n",
       "      <th></th>\n",
       "      <th>uid</th>\n",
       "      <th>age</th>\n",
       "      <th>attraction_coeff</th>\n",
       "      <th>coins</th>\n",
       "      <th>country</th>\n",
       "      <th>visit_days</th>\n",
       "      <th>gender</th>\n",
       "      <th>age_filter_start</th>\n",
       "      <th>age_filter_end</th>\n",
       "      <th>views_count</th>\n",
       "      <th>was_premium</th>\n",
       "      <th>is_premium</th>\n",
       "      <th>total_revenue</th>\n",
       "      <th>group_type</th>\n",
       "      <th>age_category</th>\n",
       "    </tr>\n",
       "  </thead>\n",
       "  <tbody>\n",
       "    <tr>\n",
       "      <th>0</th>\n",
       "      <td>892309896</td>\n",
       "      <td>27</td>\n",
       "      <td>685</td>\n",
       "      <td>0.0</td>\n",
       "      <td>United States of America</td>\n",
       "      <td>1,2,3,4,5,6,7,8,9,10,11,12,16,17</td>\n",
       "      <td>1</td>\n",
       "      <td>24</td>\n",
       "      <td>30</td>\n",
       "      <td>89</td>\n",
       "      <td>0.0</td>\n",
       "      <td>0.0</td>\n",
       "      <td>0</td>\n",
       "      <td>test</td>\n",
       "      <td>25-35</td>\n",
       "    </tr>\n",
       "    <tr>\n",
       "      <th>1</th>\n",
       "      <td>892044516</td>\n",
       "      <td>27</td>\n",
       "      <td>0</td>\n",
       "      <td>0.0</td>\n",
       "      <td>Germany</td>\n",
       "      <td>0</td>\n",
       "      <td>1</td>\n",
       "      <td>24</td>\n",
       "      <td>30</td>\n",
       "      <td>0</td>\n",
       "      <td>0.0</td>\n",
       "      <td>0.0</td>\n",
       "      <td>0</td>\n",
       "      <td>test</td>\n",
       "      <td>25-35</td>\n",
       "    </tr>\n",
       "    <tr>\n",
       "      <th>2</th>\n",
       "      <td>892185708</td>\n",
       "      <td>45</td>\n",
       "      <td>44</td>\n",
       "      <td>0.0</td>\n",
       "      <td>Israel</td>\n",
       "      <td>1,3,4,6,7,8,10,11,12,13,14,15,16,17,18,19,20,2...</td>\n",
       "      <td>1</td>\n",
       "      <td>42</td>\n",
       "      <td>48</td>\n",
       "      <td>68</td>\n",
       "      <td>0.0</td>\n",
       "      <td>0.0</td>\n",
       "      <td>0</td>\n",
       "      <td>test</td>\n",
       "      <td>35-45</td>\n",
       "    </tr>\n",
       "    <tr>\n",
       "      <th>3</th>\n",
       "      <td>892130292</td>\n",
       "      <td>32</td>\n",
       "      <td>0</td>\n",
       "      <td>0.0</td>\n",
       "      <td>United States of America</td>\n",
       "      <td>1,2,3,4,5,6,7,8,9,10,11,12</td>\n",
       "      <td>1</td>\n",
       "      <td>29</td>\n",
       "      <td>35</td>\n",
       "      <td>0</td>\n",
       "      <td>0.0</td>\n",
       "      <td>0.0</td>\n",
       "      <td>0</td>\n",
       "      <td>test</td>\n",
       "      <td>25-35</td>\n",
       "    </tr>\n",
       "    <tr>\n",
       "      <th>4</th>\n",
       "      <td>891406035</td>\n",
       "      <td>27</td>\n",
       "      <td>1000</td>\n",
       "      <td>0.0</td>\n",
       "      <td>France</td>\n",
       "      <td>0</td>\n",
       "      <td>1</td>\n",
       "      <td>24</td>\n",
       "      <td>30</td>\n",
       "      <td>1</td>\n",
       "      <td>1.0</td>\n",
       "      <td>0.0</td>\n",
       "      <td>0</td>\n",
       "      <td>test</td>\n",
       "      <td>25-35</td>\n",
       "    </tr>\n",
       "  </tbody>\n",
       "</table>\n",
       "</div>"
      ],
      "text/plain": [
       "         uid  age  attraction_coeff  coins                   country  \\\n",
       "0  892309896   27               685    0.0  United States of America   \n",
       "1  892044516   27                 0    0.0                   Germany   \n",
       "2  892185708   45                44    0.0                    Israel   \n",
       "3  892130292   32                 0    0.0  United States of America   \n",
       "4  891406035   27              1000    0.0                    France   \n",
       "\n",
       "                                          visit_days  gender  \\\n",
       "0                   1,2,3,4,5,6,7,8,9,10,11,12,16,17       1   \n",
       "1                                                  0       1   \n",
       "2  1,3,4,6,7,8,10,11,12,13,14,15,16,17,18,19,20,2...       1   \n",
       "3                         1,2,3,4,5,6,7,8,9,10,11,12       1   \n",
       "4                                                  0       1   \n",
       "\n",
       "   age_filter_start  age_filter_end  views_count  was_premium  is_premium  \\\n",
       "0                24              30           89          0.0         0.0   \n",
       "1                24              30            0          0.0         0.0   \n",
       "2                42              48           68          0.0         0.0   \n",
       "3                29              35            0          0.0         0.0   \n",
       "4                24              30            1          1.0         0.0   \n",
       "\n",
       "   total_revenue group_type age_category  \n",
       "0              0       test        25-35  \n",
       "1              0       test        25-35  \n",
       "2              0       test        35-45  \n",
       "3              0       test        25-35  \n",
       "4              0       test        25-35  "
      ]
     },
     "execution_count": 28,
     "metadata": {},
     "output_type": "execute_result"
    }
   ],
   "source": [
    "# Разбиваем пользователей на возрастные группы.\n",
    "labels = ['16-25', '25-35', '35-45', '45+']\n",
    "bins   = [16, 25, 35, 45, 100]\n",
    "\n",
    "users['age_category'] = pd.cut(users['age'], bins = bins, labels = labels)\n",
    "users.head()"
   ]
  },
  {
   "cell_type": "code",
   "execution_count": 29,
   "id": "01c8f773",
   "metadata": {},
   "outputs": [],
   "source": [
    "age = users[['uid', 'total_revenue', 'age_category', 'group_type']]"
   ]
  },
  {
   "cell_type": "code",
   "execution_count": 30,
   "id": "ad644ea1",
   "metadata": {},
   "outputs": [
    {
     "data": {
      "text/html": [
       "<div>\n",
       "<style scoped>\n",
       "    .dataframe tbody tr th:only-of-type {\n",
       "        vertical-align: middle;\n",
       "    }\n",
       "\n",
       "    .dataframe tbody tr th {\n",
       "        vertical-align: top;\n",
       "    }\n",
       "\n",
       "    .dataframe thead th {\n",
       "        text-align: right;\n",
       "    }\n",
       "</style>\n",
       "<table border=\"1\" class=\"dataframe\">\n",
       "  <thead>\n",
       "    <tr style=\"text-align: right;\">\n",
       "      <th>age_category</th>\n",
       "      <th>16-25</th>\n",
       "      <th>25-35</th>\n",
       "      <th>35-45</th>\n",
       "      <th>45+</th>\n",
       "    </tr>\n",
       "    <tr>\n",
       "      <th>group_type</th>\n",
       "      <th></th>\n",
       "      <th></th>\n",
       "      <th></th>\n",
       "      <th></th>\n",
       "    </tr>\n",
       "  </thead>\n",
       "  <tbody>\n",
       "    <tr>\n",
       "      <th>control_1</th>\n",
       "      <td>577.926316</td>\n",
       "      <td>482.071830</td>\n",
       "      <td>369.859155</td>\n",
       "      <td>525.064257</td>\n",
       "    </tr>\n",
       "    <tr>\n",
       "      <th>control_2</th>\n",
       "      <td>329.390586</td>\n",
       "      <td>521.846863</td>\n",
       "      <td>514.369231</td>\n",
       "      <td>427.078947</td>\n",
       "    </tr>\n",
       "    <tr>\n",
       "      <th>test</th>\n",
       "      <td>478.159574</td>\n",
       "      <td>546.729192</td>\n",
       "      <td>686.352941</td>\n",
       "      <td>440.984816</td>\n",
       "    </tr>\n",
       "  </tbody>\n",
       "</table>\n",
       "</div>"
      ],
      "text/plain": [
       "age_category       16-25       25-35       35-45         45+\n",
       "group_type                                                  \n",
       "control_1     577.926316  482.071830  369.859155  525.064257\n",
       "control_2     329.390586  521.846863  514.369231  427.078947\n",
       "test          478.159574  546.729192  686.352941  440.984816"
      ]
     },
     "execution_count": 30,
     "metadata": {},
     "output_type": "execute_result"
    }
   ],
   "source": [
    "age_revenue = age.pivot_table(index='group_type', columns='age_category', values = 'total_revenue')\n",
    "age_revenue"
   ]
  },
  {
   "cell_type": "markdown",
   "id": "95c8ed94",
   "metadata": {},
   "source": [
    "Согласно полученным данным, total_revenue в тестовой группе выше, чем в контрольных группах в категориях 25-35 и 35-45 лет.\n",
    "Рассчитаем APRU и ARPPU для данной категории пользователей."
   ]
  },
  {
   "cell_type": "code",
   "execution_count": 31,
   "id": "1b07e2f0",
   "metadata": {},
   "outputs": [],
   "source": [
    "age_category_users = users.query('age_category == [\"25-35\", \"35-45\"]')"
   ]
  },
  {
   "cell_type": "code",
   "execution_count": 32,
   "id": "901e8d23",
   "metadata": {},
   "outputs": [
    {
     "name": "stdout",
     "output_type": "stream",
     "text": [
      "595.2844217151849\n",
      "441.0368462757528\n",
      "519.2897612302711\n"
     ]
    }
   ],
   "source": [
    "# Рассчитаем ARPU для тестовой группы\n",
    "print(age_category_users.query('group_type == \"test\"').total_revenue.sum() / age_category_users.query('group_type == \"test\"').uid.nunique())\n",
    "\n",
    "# Рассчитаем ARPU для первой контрольной группы\n",
    "print(age_category_users.query('group_type == \"control_1\"').total_revenue.sum() / age_category_users.query('group_type == \"control_1\"').uid.nunique())\n",
    "\n",
    "# Рассчитаем ARPU для второй контрольной группы\n",
    "print(age_category_users.query('group_type == \"control_2\"').total_revenue.sum() / age_category_users.query('group_type == \"control_2\"').uid.nunique())"
   ]
  },
  {
   "cell_type": "code",
   "execution_count": 33,
   "id": "f30e2f7f",
   "metadata": {},
   "outputs": [
    {
     "name": "stdout",
     "output_type": "stream",
     "text": [
      "16098.010638297872\n",
      "10403.523364485982\n",
      "11255.833333333334\n"
     ]
    }
   ],
   "source": [
    "# ARPPU для тестовой группы\n",
    "print(age_category_users.query('group_type == \"test\" and total_revenue > 0').total_revenue.sum() / age_category_users.query('group_type == \"test\" and total_revenue > 0').uid.nunique())\n",
    "\n",
    "# ARPPU для первой контрольной группы\n",
    "print(age_category_users.query('group_type == \"control_1\" and total_revenue > 0').total_revenue.sum() / age_category_users.query('group_type == \"control_1\" and total_revenue > 0').uid.nunique())\n",
    "\n",
    "# ARPPU для второй контрольной группы\n",
    "print(age_category_users.query('group_type == \"control_2\" and total_revenue > 0').total_revenue.sum() / age_category_users.query('group_type == \"control_2\" and total_revenue > 0').uid.nunique())"
   ]
  },
  {
   "cell_type": "code",
   "execution_count": 34,
   "id": "27cfe83e",
   "metadata": {},
   "outputs": [],
   "source": [
    "# Paying Share = ARPU / ARPPU * 100. Рассчитаем для трех групп пользователей.\n",
    "paying_share_test      = round(595.2844217151849 / 16098.010638297872 * 100, 2)\n",
    "paying_share_сontrol_1 = round(441.0368462757528 / 10403.523364485982 * 100, 2)\n",
    "paying_share_сontrol_2 = round(519.2897612302711 / 11255.833333333334 * 100, 2)"
   ]
  },
  {
   "cell_type": "code",
   "execution_count": 35,
   "id": "49b020dd",
   "metadata": {},
   "outputs": [
    {
     "name": "stdout",
     "output_type": "stream",
     "text": [
      "3.7\n",
      "4.24\n",
      "4.61\n"
     ]
    }
   ],
   "source": [
    "print(paying_share_test)\n",
    "print(paying_share_сontrol_1)\n",
    "print(paying_share_сontrol_2)"
   ]
  },
  {
   "cell_type": "markdown",
   "id": "fd39acb9",
   "metadata": {},
   "source": [
    "Согласо проведенным исследованиям ARPU и ARPPU в тестовой группе выше, чем в контрольных группах. При этом, доля платящих клиентов снизилась на ~0,5-0,9 п.п.\n",
    "Предположительно, вносить изменения стоимости премиум-подписки следует для пользователей в возрасте от 25 до 45 лет."
   ]
  },
  {
   "cell_type": "markdown",
   "id": "80991657",
   "metadata": {},
   "source": [
    "## Анализ пользователей по странам."
   ]
  },
  {
   "cell_type": "code",
   "execution_count": 36,
   "id": "1a81b5a7",
   "metadata": {},
   "outputs": [
    {
     "data": {
      "text/html": [
       "<div>\n",
       "<style scoped>\n",
       "    .dataframe tbody tr th:only-of-type {\n",
       "        vertical-align: middle;\n",
       "    }\n",
       "\n",
       "    .dataframe tbody tr th {\n",
       "        vertical-align: top;\n",
       "    }\n",
       "\n",
       "    .dataframe thead th {\n",
       "        text-align: right;\n",
       "    }\n",
       "</style>\n",
       "<table border=\"1\" class=\"dataframe\">\n",
       "  <thead>\n",
       "    <tr style=\"text-align: right;\">\n",
       "      <th></th>\n",
       "      <th>uid</th>\n",
       "    </tr>\n",
       "    <tr>\n",
       "      <th>country</th>\n",
       "      <th></th>\n",
       "    </tr>\n",
       "  </thead>\n",
       "  <tbody>\n",
       "    <tr>\n",
       "      <th>Italy</th>\n",
       "      <td>953</td>\n",
       "    </tr>\n",
       "    <tr>\n",
       "      <th>Spain</th>\n",
       "      <td>953</td>\n",
       "    </tr>\n",
       "    <tr>\n",
       "      <th>France</th>\n",
       "      <td>1105</td>\n",
       "    </tr>\n",
       "    <tr>\n",
       "      <th>Argentina</th>\n",
       "      <td>1182</td>\n",
       "    </tr>\n",
       "    <tr>\n",
       "      <th>United States of America</th>\n",
       "      <td>4405</td>\n",
       "    </tr>\n",
       "  </tbody>\n",
       "</table>\n",
       "</div>"
      ],
      "text/plain": [
       "                           uid\n",
       "country                       \n",
       "Italy                      953\n",
       "Spain                      953\n",
       "France                    1105\n",
       "Argentina                 1182\n",
       "United States of America  4405"
      ]
     },
     "execution_count": 36,
     "metadata": {},
     "output_type": "execute_result"
    }
   ],
   "source": [
    "users.groupby('country').agg({'uid': 'count'}).sort_values('uid').tail(5)"
   ]
  },
  {
   "cell_type": "code",
   "execution_count": 37,
   "id": "888bd29a",
   "metadata": {},
   "outputs": [],
   "source": [
    "sorting_country = users.groupby(['group_type', 'country'], as_index = False).agg({'total_revenue':'sum', 'uid':'count'})"
   ]
  },
  {
   "cell_type": "code",
   "execution_count": 38,
   "id": "ac2264b0",
   "metadata": {},
   "outputs": [
    {
     "data": {
      "text/html": [
       "<div>\n",
       "<style scoped>\n",
       "    .dataframe tbody tr th:only-of-type {\n",
       "        vertical-align: middle;\n",
       "    }\n",
       "\n",
       "    .dataframe tbody tr th {\n",
       "        vertical-align: top;\n",
       "    }\n",
       "\n",
       "    .dataframe thead th {\n",
       "        text-align: right;\n",
       "    }\n",
       "</style>\n",
       "<table border=\"1\" class=\"dataframe\">\n",
       "  <thead>\n",
       "    <tr style=\"text-align: right;\">\n",
       "      <th></th>\n",
       "      <th>group_type</th>\n",
       "      <th>country</th>\n",
       "      <th>total_revenue</th>\n",
       "      <th>uid</th>\n",
       "    </tr>\n",
       "  </thead>\n",
       "  <tbody>\n",
       "    <tr>\n",
       "      <th>0</th>\n",
       "      <td>control_1</td>\n",
       "      <td>Algeria</td>\n",
       "      <td>0</td>\n",
       "      <td>2</td>\n",
       "    </tr>\n",
       "    <tr>\n",
       "      <th>1</th>\n",
       "      <td>control_1</td>\n",
       "      <td>Argentina</td>\n",
       "      <td>144690</td>\n",
       "      <td>389</td>\n",
       "    </tr>\n",
       "    <tr>\n",
       "      <th>2</th>\n",
       "      <td>control_1</td>\n",
       "      <td>Armenia</td>\n",
       "      <td>0</td>\n",
       "      <td>1</td>\n",
       "    </tr>\n",
       "    <tr>\n",
       "      <th>3</th>\n",
       "      <td>control_1</td>\n",
       "      <td>Australia</td>\n",
       "      <td>18304</td>\n",
       "      <td>50</td>\n",
       "    </tr>\n",
       "    <tr>\n",
       "      <th>4</th>\n",
       "      <td>control_1</td>\n",
       "      <td>Belgium</td>\n",
       "      <td>45630</td>\n",
       "      <td>108</td>\n",
       "    </tr>\n",
       "    <tr>\n",
       "      <th>...</th>\n",
       "      <td>...</td>\n",
       "      <td>...</td>\n",
       "      <td>...</td>\n",
       "      <td>...</td>\n",
       "    </tr>\n",
       "    <tr>\n",
       "      <th>131</th>\n",
       "      <td>test</td>\n",
       "      <td>United Arab Emirates</td>\n",
       "      <td>213785</td>\n",
       "      <td>226</td>\n",
       "    </tr>\n",
       "    <tr>\n",
       "      <th>132</th>\n",
       "      <td>test</td>\n",
       "      <td>United Kingdom (Great Britain)</td>\n",
       "      <td>77376</td>\n",
       "      <td>169</td>\n",
       "    </tr>\n",
       "    <tr>\n",
       "      <th>133</th>\n",
       "      <td>test</td>\n",
       "      <td>United States of America</td>\n",
       "      <td>721838</td>\n",
       "      <td>1449</td>\n",
       "    </tr>\n",
       "    <tr>\n",
       "      <th>134</th>\n",
       "      <td>test</td>\n",
       "      <td>Uruguay</td>\n",
       "      <td>0</td>\n",
       "      <td>1</td>\n",
       "    </tr>\n",
       "    <tr>\n",
       "      <th>135</th>\n",
       "      <td>test</td>\n",
       "      <td>Uzbekistan</td>\n",
       "      <td>0</td>\n",
       "      <td>1</td>\n",
       "    </tr>\n",
       "  </tbody>\n",
       "</table>\n",
       "<p>136 rows × 4 columns</p>\n",
       "</div>"
      ],
      "text/plain": [
       "    group_type                         country  total_revenue   uid\n",
       "0    control_1                         Algeria              0     2\n",
       "1    control_1                       Argentina         144690   389\n",
       "2    control_1                         Armenia              0     1\n",
       "3    control_1                       Australia          18304    50\n",
       "4    control_1                         Belgium          45630   108\n",
       "..         ...                             ...            ...   ...\n",
       "131       test            United Arab Emirates         213785   226\n",
       "132       test  United Kingdom (Great Britain)          77376   169\n",
       "133       test        United States of America         721838  1449\n",
       "134       test                         Uruguay              0     1\n",
       "135       test                      Uzbekistan              0     1\n",
       "\n",
       "[136 rows x 4 columns]"
      ]
     },
     "execution_count": 38,
     "metadata": {},
     "output_type": "execute_result"
    }
   ],
   "source": [
    "sorting_country"
   ]
  },
  {
   "cell_type": "code",
   "execution_count": 39,
   "id": "8081bf22",
   "metadata": {},
   "outputs": [],
   "source": [
    "c1_list = list(sorting_country.query('group_type == \"control_1\"').country)\n",
    "c2_list = list(sorting_country.query('group_type == \"control_2\"').country)\n",
    "test_list = list(sorting_country.query('group_type == \"test\"').country)"
   ]
  },
  {
   "cell_type": "code",
   "execution_count": 40,
   "id": "e731b005",
   "metadata": {},
   "outputs": [
    {
     "data": {
      "text/plain": [
       "{'Argentina',\n",
       " 'Australia',\n",
       " 'Belgium',\n",
       " 'Canada',\n",
       " 'Chile',\n",
       " 'Colombia',\n",
       " 'Costa Rica',\n",
       " 'Dominican Republic',\n",
       " 'France',\n",
       " 'Germany',\n",
       " 'India',\n",
       " 'Israel',\n",
       " 'Italy',\n",
       " 'Kyrgyzstan',\n",
       " 'Mexico',\n",
       " 'Peru',\n",
       " 'Portugal',\n",
       " 'Russian Federation',\n",
       " 'Spain',\n",
       " 'Switzerland',\n",
       " 'Turkey',\n",
       " 'Ukraine',\n",
       " 'United Arab Emirates',\n",
       " 'United Kingdom (Great Britain)',\n",
       " 'United States of America'}"
      ]
     },
     "execution_count": 40,
     "metadata": {},
     "output_type": "execute_result"
    }
   ],
   "source": [
    "# Оставляем только те страны, которые присутствуют и в тестовом списке и в двух контрольных списках.\n",
    "set(c1_list) & set(c2_list) & set(test_list)"
   ]
  },
  {
   "cell_type": "code",
   "execution_count": 41,
   "id": "bb47eb83",
   "metadata": {},
   "outputs": [],
   "source": [
    "sorting_country = sorting_country.query(\"country == ['Argentina', 'Australia', 'Belgium', 'Canada', 'Chile', 'Colombia', 'Costa Rica', 'Dominican Republic',  'France', 'Germany', 'India', 'Israel', 'Italy', 'Kyrgyzstan', 'Mexico', 'Peru', 'Portugal', 'Russian Federation', 'Spain', 'Switzerland', 'Turkey', 'Ukraine', 'United Arab Emirates', 'United Kingdom (Great Britain)', 'United States of America']\")"
   ]
  },
  {
   "cell_type": "code",
   "execution_count": 42,
   "id": "75effcf0",
   "metadata": {},
   "outputs": [
    {
     "data": {
      "text/html": [
       "<div>\n",
       "<style scoped>\n",
       "    .dataframe tbody tr th:only-of-type {\n",
       "        vertical-align: middle;\n",
       "    }\n",
       "\n",
       "    .dataframe tbody tr th {\n",
       "        vertical-align: top;\n",
       "    }\n",
       "\n",
       "    .dataframe thead th {\n",
       "        text-align: right;\n",
       "    }\n",
       "</style>\n",
       "<table border=\"1\" class=\"dataframe\">\n",
       "  <thead>\n",
       "    <tr style=\"text-align: right;\">\n",
       "      <th>group_type</th>\n",
       "      <th>control_1</th>\n",
       "      <th>control_2</th>\n",
       "      <th>test</th>\n",
       "    </tr>\n",
       "    <tr>\n",
       "      <th>country</th>\n",
       "      <th></th>\n",
       "      <th></th>\n",
       "      <th></th>\n",
       "    </tr>\n",
       "  </thead>\n",
       "  <tbody>\n",
       "    <tr>\n",
       "      <th>United States of America</th>\n",
       "      <td>1471</td>\n",
       "      <td>1485</td>\n",
       "      <td>1449</td>\n",
       "    </tr>\n",
       "    <tr>\n",
       "      <th>Argentina</th>\n",
       "      <td>389</td>\n",
       "      <td>397</td>\n",
       "      <td>396</td>\n",
       "    </tr>\n",
       "    <tr>\n",
       "      <th>France</th>\n",
       "      <td>370</td>\n",
       "      <td>376</td>\n",
       "      <td>359</td>\n",
       "    </tr>\n",
       "    <tr>\n",
       "      <th>Italy</th>\n",
       "      <td>337</td>\n",
       "      <td>293</td>\n",
       "      <td>323</td>\n",
       "    </tr>\n",
       "    <tr>\n",
       "      <th>Spain</th>\n",
       "      <td>342</td>\n",
       "      <td>310</td>\n",
       "      <td>301</td>\n",
       "    </tr>\n",
       "    <tr>\n",
       "      <th>Chile</th>\n",
       "      <td>287</td>\n",
       "      <td>286</td>\n",
       "      <td>272</td>\n",
       "    </tr>\n",
       "    <tr>\n",
       "      <th>United Arab Emirates</th>\n",
       "      <td>207</td>\n",
       "      <td>211</td>\n",
       "      <td>226</td>\n",
       "    </tr>\n",
       "    <tr>\n",
       "      <th>Germany</th>\n",
       "      <td>188</td>\n",
       "      <td>202</td>\n",
       "      <td>209</td>\n",
       "    </tr>\n",
       "    <tr>\n",
       "      <th>United Kingdom (Great Britain)</th>\n",
       "      <td>146</td>\n",
       "      <td>146</td>\n",
       "      <td>169</td>\n",
       "    </tr>\n",
       "    <tr>\n",
       "      <th>Canada</th>\n",
       "      <td>134</td>\n",
       "      <td>134</td>\n",
       "      <td>137</td>\n",
       "    </tr>\n",
       "    <tr>\n",
       "      <th>Israel</th>\n",
       "      <td>109</td>\n",
       "      <td>78</td>\n",
       "      <td>106</td>\n",
       "    </tr>\n",
       "    <tr>\n",
       "      <th>Belgium</th>\n",
       "      <td>108</td>\n",
       "      <td>90</td>\n",
       "      <td>92</td>\n",
       "    </tr>\n",
       "    <tr>\n",
       "      <th>Portugal</th>\n",
       "      <td>100</td>\n",
       "      <td>100</td>\n",
       "      <td>91</td>\n",
       "    </tr>\n",
       "    <tr>\n",
       "      <th>Australia</th>\n",
       "      <td>50</td>\n",
       "      <td>51</td>\n",
       "      <td>62</td>\n",
       "    </tr>\n",
       "    <tr>\n",
       "      <th>Switzerland</th>\n",
       "      <td>42</td>\n",
       "      <td>35</td>\n",
       "      <td>35</td>\n",
       "    </tr>\n",
       "    <tr>\n",
       "      <th>Ukraine</th>\n",
       "      <td>8</td>\n",
       "      <td>18</td>\n",
       "      <td>15</td>\n",
       "    </tr>\n",
       "    <tr>\n",
       "      <th>Mexico</th>\n",
       "      <td>4</td>\n",
       "      <td>4</td>\n",
       "      <td>7</td>\n",
       "    </tr>\n",
       "    <tr>\n",
       "      <th>Russian Federation</th>\n",
       "      <td>6</td>\n",
       "      <td>8</td>\n",
       "      <td>7</td>\n",
       "    </tr>\n",
       "    <tr>\n",
       "      <th>Turkey</th>\n",
       "      <td>8</td>\n",
       "      <td>5</td>\n",
       "      <td>5</td>\n",
       "    </tr>\n",
       "    <tr>\n",
       "      <th>India</th>\n",
       "      <td>6</td>\n",
       "      <td>2</td>\n",
       "      <td>4</td>\n",
       "    </tr>\n",
       "    <tr>\n",
       "      <th>Peru</th>\n",
       "      <td>1</td>\n",
       "      <td>1</td>\n",
       "      <td>1</td>\n",
       "    </tr>\n",
       "    <tr>\n",
       "      <th>Dominican Republic</th>\n",
       "      <td>2</td>\n",
       "      <td>1</td>\n",
       "      <td>1</td>\n",
       "    </tr>\n",
       "    <tr>\n",
       "      <th>Costa Rica</th>\n",
       "      <td>1</td>\n",
       "      <td>1</td>\n",
       "      <td>1</td>\n",
       "    </tr>\n",
       "    <tr>\n",
       "      <th>Colombia</th>\n",
       "      <td>1</td>\n",
       "      <td>2</td>\n",
       "      <td>1</td>\n",
       "    </tr>\n",
       "    <tr>\n",
       "      <th>Kyrgyzstan</th>\n",
       "      <td>1</td>\n",
       "      <td>1</td>\n",
       "      <td>1</td>\n",
       "    </tr>\n",
       "  </tbody>\n",
       "</table>\n",
       "</div>"
      ],
      "text/plain": [
       "group_type                      control_1  control_2  test\n",
       "country                                                   \n",
       "United States of America             1471       1485  1449\n",
       "Argentina                             389        397   396\n",
       "France                                370        376   359\n",
       "Italy                                 337        293   323\n",
       "Spain                                 342        310   301\n",
       "Chile                                 287        286   272\n",
       "United Arab Emirates                  207        211   226\n",
       "Germany                               188        202   209\n",
       "United Kingdom (Great Britain)        146        146   169\n",
       "Canada                                134        134   137\n",
       "Israel                                109         78   106\n",
       "Belgium                               108         90    92\n",
       "Portugal                              100        100    91\n",
       "Australia                              50         51    62\n",
       "Switzerland                            42         35    35\n",
       "Ukraine                                 8         18    15\n",
       "Mexico                                  4          4     7\n",
       "Russian Federation                      6          8     7\n",
       "Turkey                                  8          5     5\n",
       "India                                   6          2     4\n",
       "Peru                                    1          1     1\n",
       "Dominican Republic                      2          1     1\n",
       "Costa Rica                              1          1     1\n",
       "Colombia                                1          2     1\n",
       "Kyrgyzstan                              1          1     1"
      ]
     },
     "execution_count": 42,
     "metadata": {},
     "output_type": "execute_result"
    }
   ],
   "source": [
    "# Проверяем репрезентативны ли данные. Видим, что количество клиентов по странам примерно одинаковое.\n",
    "sorting_country.pivot(index='country', columns='group_type', values='uid').sort_values('test', ascending = False)"
   ]
  },
  {
   "cell_type": "code",
   "execution_count": 43,
   "id": "a4bdb15a",
   "metadata": {},
   "outputs": [
    {
     "data": {
      "text/html": [
       "<div>\n",
       "<style scoped>\n",
       "    .dataframe tbody tr th:only-of-type {\n",
       "        vertical-align: middle;\n",
       "    }\n",
       "\n",
       "    .dataframe tbody tr th {\n",
       "        vertical-align: top;\n",
       "    }\n",
       "\n",
       "    .dataframe thead th {\n",
       "        text-align: right;\n",
       "    }\n",
       "</style>\n",
       "<table border=\"1\" class=\"dataframe\">\n",
       "  <thead>\n",
       "    <tr style=\"text-align: right;\">\n",
       "      <th>group_type</th>\n",
       "      <th>control_1</th>\n",
       "      <th>control_2</th>\n",
       "      <th>test</th>\n",
       "    </tr>\n",
       "    <tr>\n",
       "      <th>country</th>\n",
       "      <th></th>\n",
       "      <th></th>\n",
       "      <th></th>\n",
       "    </tr>\n",
       "  </thead>\n",
       "  <tbody>\n",
       "    <tr>\n",
       "      <th>United States of America</th>\n",
       "      <td>713687</td>\n",
       "      <td>584207</td>\n",
       "      <td>721838</td>\n",
       "    </tr>\n",
       "    <tr>\n",
       "      <th>Spain</th>\n",
       "      <td>99060</td>\n",
       "      <td>193778</td>\n",
       "      <td>285428</td>\n",
       "    </tr>\n",
       "    <tr>\n",
       "      <th>France</th>\n",
       "      <td>184353</td>\n",
       "      <td>149071</td>\n",
       "      <td>253617</td>\n",
       "    </tr>\n",
       "    <tr>\n",
       "      <th>United Arab Emirates</th>\n",
       "      <td>75543</td>\n",
       "      <td>117143</td>\n",
       "      <td>213785</td>\n",
       "    </tr>\n",
       "    <tr>\n",
       "      <th>Argentina</th>\n",
       "      <td>144690</td>\n",
       "      <td>121017</td>\n",
       "      <td>188019</td>\n",
       "    </tr>\n",
       "    <tr>\n",
       "      <th>Italy</th>\n",
       "      <td>147368</td>\n",
       "      <td>118989</td>\n",
       "      <td>113425</td>\n",
       "    </tr>\n",
       "    <tr>\n",
       "      <th>Germany</th>\n",
       "      <td>23998</td>\n",
       "      <td>71409</td>\n",
       "      <td>96096</td>\n",
       "    </tr>\n",
       "    <tr>\n",
       "      <th>Israel</th>\n",
       "      <td>118391</td>\n",
       "      <td>68926</td>\n",
       "      <td>94809</td>\n",
       "    </tr>\n",
       "    <tr>\n",
       "      <th>United Kingdom (Great Britain)</th>\n",
       "      <td>198965</td>\n",
       "      <td>96473</td>\n",
       "      <td>77376</td>\n",
       "    </tr>\n",
       "    <tr>\n",
       "      <th>Chile</th>\n",
       "      <td>97565</td>\n",
       "      <td>108615</td>\n",
       "      <td>69940</td>\n",
       "    </tr>\n",
       "    <tr>\n",
       "      <th>Canada</th>\n",
       "      <td>92053</td>\n",
       "      <td>30537</td>\n",
       "      <td>63466</td>\n",
       "    </tr>\n",
       "    <tr>\n",
       "      <th>Belgium</th>\n",
       "      <td>45630</td>\n",
       "      <td>110214</td>\n",
       "      <td>62686</td>\n",
       "    </tr>\n",
       "    <tr>\n",
       "      <th>Switzerland</th>\n",
       "      <td>26572</td>\n",
       "      <td>28093</td>\n",
       "      <td>22256</td>\n",
       "    </tr>\n",
       "    <tr>\n",
       "      <th>Australia</th>\n",
       "      <td>18304</td>\n",
       "      <td>22646</td>\n",
       "      <td>12597</td>\n",
       "    </tr>\n",
       "    <tr>\n",
       "      <th>Turkey</th>\n",
       "      <td>79677</td>\n",
       "      <td>11700</td>\n",
       "      <td>9165</td>\n",
       "    </tr>\n",
       "    <tr>\n",
       "      <th>Mexico</th>\n",
       "      <td>0</td>\n",
       "      <td>0</td>\n",
       "      <td>6214</td>\n",
       "    </tr>\n",
       "    <tr>\n",
       "      <th>Ukraine</th>\n",
       "      <td>0</td>\n",
       "      <td>8879</td>\n",
       "      <td>0</td>\n",
       "    </tr>\n",
       "    <tr>\n",
       "      <th>Colombia</th>\n",
       "      <td>0</td>\n",
       "      <td>0</td>\n",
       "      <td>0</td>\n",
       "    </tr>\n",
       "    <tr>\n",
       "      <th>Russian Federation</th>\n",
       "      <td>26</td>\n",
       "      <td>0</td>\n",
       "      <td>0</td>\n",
       "    </tr>\n",
       "    <tr>\n",
       "      <th>Portugal</th>\n",
       "      <td>19435</td>\n",
       "      <td>53807</td>\n",
       "      <td>0</td>\n",
       "    </tr>\n",
       "    <tr>\n",
       "      <th>Costa Rica</th>\n",
       "      <td>0</td>\n",
       "      <td>0</td>\n",
       "      <td>0</td>\n",
       "    </tr>\n",
       "    <tr>\n",
       "      <th>Kyrgyzstan</th>\n",
       "      <td>0</td>\n",
       "      <td>0</td>\n",
       "      <td>0</td>\n",
       "    </tr>\n",
       "    <tr>\n",
       "      <th>India</th>\n",
       "      <td>9620</td>\n",
       "      <td>0</td>\n",
       "      <td>0</td>\n",
       "    </tr>\n",
       "    <tr>\n",
       "      <th>Dominican Republic</th>\n",
       "      <td>0</td>\n",
       "      <td>0</td>\n",
       "      <td>0</td>\n",
       "    </tr>\n",
       "    <tr>\n",
       "      <th>Peru</th>\n",
       "      <td>0</td>\n",
       "      <td>0</td>\n",
       "      <td>0</td>\n",
       "    </tr>\n",
       "  </tbody>\n",
       "</table>\n",
       "</div>"
      ],
      "text/plain": [
       "group_type                      control_1  control_2    test\n",
       "country                                                     \n",
       "United States of America           713687     584207  721838\n",
       "Spain                               99060     193778  285428\n",
       "France                             184353     149071  253617\n",
       "United Arab Emirates                75543     117143  213785\n",
       "Argentina                          144690     121017  188019\n",
       "Italy                              147368     118989  113425\n",
       "Germany                             23998      71409   96096\n",
       "Israel                             118391      68926   94809\n",
       "United Kingdom (Great Britain)     198965      96473   77376\n",
       "Chile                               97565     108615   69940\n",
       "Canada                              92053      30537   63466\n",
       "Belgium                             45630     110214   62686\n",
       "Switzerland                         26572      28093   22256\n",
       "Australia                           18304      22646   12597\n",
       "Turkey                              79677      11700    9165\n",
       "Mexico                                  0          0    6214\n",
       "Ukraine                                 0       8879       0\n",
       "Colombia                                0          0       0\n",
       "Russian Federation                     26          0       0\n",
       "Portugal                            19435      53807       0\n",
       "Costa Rica                              0          0       0\n",
       "Kyrgyzstan                              0          0       0\n",
       "India                                9620          0       0\n",
       "Dominican Republic                      0          0       0\n",
       "Peru                                    0          0       0"
      ]
     },
     "execution_count": 43,
     "metadata": {},
     "output_type": "execute_result"
    }
   ],
   "source": [
    "sorting_country.groupby(['group_type', 'country']) \\\n",
    "                .agg({'total_revenue': 'sum'}) \\\n",
    "                .reset_index() \\\n",
    "                .pivot(index='country', columns='group_type', values='total_revenue') \\\n",
    "                .sort_values('test', ascending = False)"
   ]
  },
  {
   "cell_type": "markdown",
   "id": "d9838eb5",
   "metadata": {},
   "source": [
    "По результатам проведенного анализа установлено, что total_value вырос в следущих странах (отбираем только те страны, в которых рост был относительно обеих контрольных групп):\n",
    "- США (значительный рост в сравнении со втотой группой);\n",
    "- Испании (значительный рост в сравнении с двумя группами);\n",
    "- Франции (значительный рост в сравнении с двумя группами);\n",
    "- ОАЭ (значительный рост в сравнении с двумя группами);\n",
    "- Аргентине;\n",
    "- Германии (значительный рост в сравнении с первой группой);\n",
    "- Мексике.\n",
    "\n",
    "Total_value в тестовой группе снизился в следующих странах:\n",
    "- Италии;\n",
    "- Великобритании;\n",
    "- Чили;\n",
    "- Швейцарии;\n",
    "- Австралии;\n",
    "- Турции;\n",
    "- Португалии.\n",
    "\n",
    "В остальных странах результаты не однозначные."
   ]
  },
  {
   "cell_type": "markdown",
   "id": "d34bca4f",
   "metadata": {},
   "source": [
    "# Проведем А/А-тест, чтобы понять, корректно ли работает система сплитования."
   ]
  },
  {
   "cell_type": "code",
   "execution_count": 44,
   "id": "fa01d115",
   "metadata": {},
   "outputs": [
    {
     "data": {
      "application/vnd.jupyter.widget-view+json": {
       "model_id": "bfd934bda875451b8947020485efec51",
       "version_major": 2,
       "version_minor": 0
      },
      "text/plain": [
       "  0%|          | 0/1000 [00:00<?, ?it/s]"
      ]
     },
     "metadata": {},
     "output_type": "display_data"
    },
    {
     "data": {
      "image/png": "[encoded data removed]",
      "text/plain": [
       "<Figure size 842.4x595.44 with 1 Axes>"
      ]
     },
     "metadata": {},
     "output_type": "display_data"
    },
    {
     "data": {
      "text/plain": [
       "0.026"
      ]
     },
     "execution_count": 44,
     "metadata": {},
     "output_type": "execute_result"
    }
   ],
   "source": [
    "n = 100000\n",
    "simulations = 1000\n",
    "n_s = 1000\n",
    "res = []\n",
    "c1 = users.query('group_type == \"control_1\"')\n",
    "c2 = users.query('group_type == \"control_2\"')\n",
    "\n",
    "\n",
    "# Запуск симуляций A/A теста\n",
    "for i in tqdm(range(simulations)):\n",
    "    s1 = c1.total_revenue.sample(n_s, replace = False).values\n",
    "    s2 = c2.total_revenue.sample(n_s, replace = False).values\n",
    "    res.append(stats.ttest_ind(s1, s2, equal_var = False)[1]) # сохраняем pvalue\n",
    "\n",
    "plt.hist(res, bins = 50)\n",
    "plt.style.use('ggplot')\n",
    "plt.xlabel('pvalues')\n",
    "plt.ylabel('frequency')\n",
    "plt.title(\"Histogram of ttest A/A simulations \")\n",
    "plt.show()\n",
    "\n",
    "# Проверяем, что количество ложноположительных случаев не превышает альфа\n",
    "sum(np.array(res) <0.05) / simulations"
   ]
  },
  {
   "cell_type": "markdown",
   "id": "17d1a10a",
   "metadata": {},
   "source": [
    "По результатам проведенного А/А-тестирования стат. значимых различий не выявлено. Считаем, что система сплитования работает корректно."
   ]
  },
  {
   "cell_type": "markdown",
   "id": "e3eeadf0",
   "metadata": {},
   "source": [
    "# Проведение А/В-теста"
   ]
  },
  {
   "cell_type": "markdown",
   "id": "87fae8c6",
   "metadata": {},
   "source": [
    "Статистические гипотезы:\n",
    "- средние значения total_revenue в контрольных группах значимо не отличаются от среднего значения в тестовой группе;\n",
    "- средние значения total_revenue (при total_revenue > 0) в контрольных группах значимо не отличаются от среднего значения в тестовой группе;\n",
    "- снижение доли платящих клиентов в тестовой группе по сравнению с контрольными группами статистически не значимо."
   ]
  },
  {
   "cell_type": "markdown",
   "id": "c5578d9d",
   "metadata": {},
   "source": [
    "###### Проверим распределения на нормальность с помощью теста Шапиро"
   ]
  },
  {
   "cell_type": "code",
   "execution_count": 45,
   "id": "e7da9736",
   "metadata": {},
   "outputs": [],
   "source": [
    "a = users.query('group_type == \"test\" and total_revenue > 0').total_revenue\n",
    "b = users.query('group_type == \"control_1\" and total_revenue > 0').total_revenue\n",
    "c = users.query('group_type == \"control_2\" and total_revenue > 0').total_revenue\n",
    "d = users.query('group_type == \"test\"').total_revenue\n",
    "e = users.query('group_type == \"control_1\"').total_revenue\n",
    "f = users.query('group_type == \"control_2\"').total_revenue"
   ]
  },
  {
   "cell_type": "code",
   "execution_count": 46,
   "id": "a138189b",
   "metadata": {},
   "outputs": [
    {
     "name": "stdout",
     "output_type": "stream",
     "text": [
      "ShapiroResult(statistic=0.5494610071182251, pvalue=2.530081054497636e-19)\n",
      "ShapiroResult(statistic=0.6391915082931519, pvalue=6.679394912190761e-20)\n",
      "ShapiroResult(statistic=0.6258848905563354, pvalue=5.0175247612037996e-20)\n",
      "ShapiroResult(statistic=0.09915435314178467, pvalue=0.0)\n",
      "ShapiroResult(statistic=0.14440131187438965, pvalue=0.0)\n",
      "ShapiroResult(statistic=0.144597589969635, pvalue=0.0)\n"
     ]
    }
   ],
   "source": [
    "print(stats.shapiro(a))\n",
    "print(stats.shapiro(b))\n",
    "print(stats.shapiro(c))\n",
    "print(stats.shapiro(d))\n",
    "print(stats.shapiro(e))\n",
    "print(stats.shapiro(f))"
   ]
  },
  {
   "cell_type": "markdown",
   "id": "323ee845",
   "metadata": {},
   "source": [
    "По результатам проведенного тестирования установлено, что распределение значимо отличается от нормального."
   ]
  },
  {
   "cell_type": "markdown",
   "id": "fc7abb66",
   "metadata": {},
   "source": [
    "###### Оценим равенство дисперсий с помощью теста Левена."
   ]
  },
  {
   "cell_type": "code",
   "execution_count": 47,
   "id": "d504f67e",
   "metadata": {},
   "outputs": [
    {
     "name": "stdout",
     "output_type": "stream",
     "text": [
      "Statistics=3.505, p-value=0.031\n",
      "Отклонить гипотезу о равенстве дисперсий\n"
     ]
    }
   ],
   "source": [
    "test_leven, p = stats.levene(a, b, c)\n",
    "print('Statistics=%.3f, p-value=%.3f' % (test_leven, p))\n",
    "alpha = 0.05\n",
    "if p < alpha:\n",
    "    print('Отклонить гипотезу о равенстве дисперсий')\n",
    "else:\n",
    "    print('Принять гипотезу о равенстве дисперсий')"
   ]
  },
  {
   "cell_type": "code",
   "execution_count": 48,
   "id": "0593f166",
   "metadata": {},
   "outputs": [
    {
     "name": "stdout",
     "output_type": "stream",
     "text": [
      "Statistics=0.624, p-value=0.536\n",
      "Принять гипотезу о равенстве дисперсий\n"
     ]
    }
   ],
   "source": [
    "test_leven, p = stats.levene(d, e, f)\n",
    "print('Statistics=%.3f, p-value=%.3f' % (test_leven, p))\n",
    "alpha = 0.05\n",
    "if p < alpha:\n",
    "    print('Отклонить гипотезу о равенстве дисперсий')\n",
    "else:\n",
    "    print('Принять гипотезу о равенстве дисперсий')"
   ]
  },
  {
   "cell_type": "markdown",
   "id": "c77e5024",
   "metadata": {},
   "source": [
    "Так как дисперсии во втором случае равны, можем провести многофакторный дисперсионный анализ."
   ]
  },
  {
   "cell_type": "code",
   "execution_count": 49,
   "id": "0d258e20",
   "metadata": {},
   "outputs": [
    {
     "data": {
      "text/plain": [
       "F_onewayResult(statistic=0.6242779764703723, pvalue=0.5356642136087857)"
      ]
     },
     "execution_count": 49,
     "metadata": {},
     "output_type": "execute_result"
    }
   ],
   "source": [
    "stats.f_oneway(d, e, f)"
   ]
  },
  {
   "cell_type": "markdown",
   "id": "84a39e3d",
   "metadata": {},
   "source": [
    "Так как p-значение больше 0.05, то мы делаем вывод, что средние групп значимо не отличается друг от друга."
   ]
  },
  {
   "cell_type": "markdown",
   "id": "a6762bf2",
   "metadata": {},
   "source": [
    "#### Таким образом, мы можем сказать, что эксперимент не принес положительных результатов.\n",
    "#### Статистически значимых изменений в части увеличения total_revenue в тестовой группе не выявлено."
   ]
  },
  {
   "cell_type": "markdown",
   "id": "e17830bd",
   "metadata": {},
   "source": [
    "### Проверим статистически значимо ли изменение доли платящих клиентов"
   ]
  },
  {
   "cell_type": "code",
   "execution_count": 50,
   "id": "78ab1f9d",
   "metadata": {},
   "outputs": [
    {
     "name": "stdout",
     "output_type": "stream",
     "text": [
      "4307\n",
      "146\n",
      "4339\n",
      "191\n",
      "4263\n",
      "187\n"
     ]
    }
   ],
   "source": [
    "print(users.query('group_type == \"test\"').uid.count()) # считаем общее количество клиентов в тестовой группе\n",
    "print(users.query('group_type == \"test\" and total_revenue > 0').uid.count()) # считаем количество платящих клиентов в тестовой группе\n",
    "print(users.query('group_type == \"control_1\"').uid.count()) # считаем общее количество клиентов в первой контрольной группе\n",
    "print(users.query('group_type == \"control_1\" and total_revenue > 0').uid.count()) # считаем количество платящих клиентов в первой контрольной группе\n",
    "print(users.query('group_type == \"control_2\"').uid.count()) # считаем общее количество клиентов во второй контрольной группе\n",
    "print(users.query('group_type == \"control_2\" and total_revenue > 0').uid.count()) # считаем количество платящих клиентов во второй контрольной группе"
   ]
  },
  {
   "cell_type": "code",
   "execution_count": 66,
   "id": "69967f38",
   "metadata": {},
   "outputs": [
    {
     "name": "stdout",
     "output_type": "stream",
     "text": [
      "['-2.431231409530', '0.015047600411']\n",
      "['-2.387348676354', '0.016970387527']\n",
      "['0.034735864903', '0.972290362117']\n"
     ]
    }
   ],
   "source": [
    "t_paying = 146 # число платящих клиентов в тестовой группе\n",
    "t_total  = 4307 # общее число клиентов в тестоой группе\n",
    "\n",
    "c1_paying = 191 # число платящих клиентов в котрольной группе 1\n",
    "c1_total  = 4339 # общее число клиентов в котрольной группе 1\n",
    "\n",
    "c2_paying = 187 # число платящих клиентов в котрольной группе 2\n",
    "c2_total  = 4263 # общее число клиентов в котрольной группе 2\n",
    "\n",
    "\n",
    "z1, p_value1 = sm.stats.proportions_ztest([t_paying, c1_paying], [t_total, c1_total])\n",
    "print(['{:.12f}'.format(a) for a in (z1, p_value1)])\n",
    "\n",
    "z2, p_value2 = sm.stats.proportions_ztest([t_paying, c2_paying], [t_total, c2_total])\n",
    "print(['{:.12f}'.format(b) for b in (z2, p_value2)])\n",
    "\n",
    "z3, p_value3 = sm.stats.proportions_ztest([c1_paying, c2_paying], [c1_total, c2_total])\n",
    "print(['{:.12f}'.format(с) for с in (z3, p_value3)])"
   ]
  },
  {
   "cell_type": "markdown",
   "id": "31f7caa6",
   "metadata": {},
   "source": [
    "### По результатам проведенного исследования установлено, что снижение доли платящих клиентов в тестовой группе по сравнению с контрольными является статистически значимым.\n",
    "\n",
    "## Таким образом, в совокупности факторов можно сделать следующий вывод:\n",
    "Экперимент не был успешным. Доля платящих клиентов снизилась. Статистически значимых изменений в увеличении total_revenue не выявлено."
   ]
  },
  {
   "cell_type": "markdown",
   "id": "ff7cb389",
   "metadata": {},
   "source": [
    "### Рассмотрим изменения по группам пользователей: в возрасте 25-45 лет и по странам."
   ]
  },
  {
   "cell_type": "code",
   "execution_count": 52,
   "id": "8553efb3",
   "metadata": {},
   "outputs": [],
   "source": [
    "g = users.query('group_type == \"test\" and age_category == [\"25-35\", \"35-45\"]').total_revenue\n",
    "h = users.query('group_type == \"control_1\" and age_category == [\"25-35\", \"35-45\"]').total_revenue\n",
    "i = users.query('group_type == \"control_2\" and age_category == [\"25-35\", \"35-45\"]').total_revenue\n",
    "j = users.query('group_type == \"test\" and age_category == [\"25-35\", \"35-45\"] and total_revenue > 0').total_revenue\n",
    "k = users.query('group_type == \"control_1\" and age_category == [\"25-35\", \"35-45\"] and total_revenue > 0').total_revenue\n",
    "l = users.query('group_type == \"control_2\" and age_category == [\"25-35\", \"35-45\"] and total_revenue > 0').total_revenue"
   ]
  },
  {
   "cell_type": "code",
   "execution_count": 53,
   "id": "deb5701c",
   "metadata": {},
   "outputs": [
    {
     "name": "stdout",
     "output_type": "stream",
     "text": [
      "ShapiroResult(statistic=0.09905356168746948, pvalue=0.0)\n",
      "ShapiroResult(statistic=0.16032308340072632, pvalue=0.0)\n",
      "ShapiroResult(statistic=0.14108127355575562, pvalue=0.0)\n",
      "ShapiroResult(statistic=0.5312001705169678, pvalue=8.003861546347364e-16)\n",
      "ShapiroResult(statistic=0.754463255405426, pvalue=4.353747397323193e-12)\n",
      "ShapiroResult(statistic=0.6131981611251831, pvalue=7.069449739045494e-16)\n"
     ]
    }
   ],
   "source": [
    "print(stats.shapiro(g))\n",
    "print(stats.shapiro(h))\n",
    "print(stats.shapiro(i))\n",
    "print(stats.shapiro(j))\n",
    "print(stats.shapiro(k))\n",
    "print(stats.shapiro(l))"
   ]
  },
  {
   "cell_type": "code",
   "execution_count": 54,
   "id": "2f712aab",
   "metadata": {},
   "outputs": [
    {
     "name": "stdout",
     "output_type": "stream",
     "text": [
      "Statistics=1.079, p-value=0.340\n",
      "Принять гипотезу о равенстве дисперсий\n"
     ]
    }
   ],
   "source": [
    "test_leven, p = stats.levene(g, h, i)\n",
    "print('Statistics=%.3f, p-value=%.3f' % (test_leven, p))\n",
    "alpha = 0.05\n",
    "if p < alpha:\n",
    "    print('Отклонить гипотезу о равенстве дисперсий')\n",
    "else:\n",
    "    print('Принять гипотезу о равенстве дисперсий')"
   ]
  },
  {
   "cell_type": "code",
   "execution_count": 55,
   "id": "952fb6d4",
   "metadata": {},
   "outputs": [
    {
     "name": "stdout",
     "output_type": "stream",
     "text": [
      "Statistics=2.768, p-value=0.064\n",
      "Принять гипотезу о равенстве дисперсий\n"
     ]
    }
   ],
   "source": [
    "test_leven, p = stats.levene(j, k, l)\n",
    "print('Statistics=%.3f, p-value=%.3f' % (test_leven, p))\n",
    "alpha = 0.05\n",
    "if p < alpha:\n",
    "    print('Отклонить гипотезу о равенстве дисперсий')\n",
    "else:\n",
    "    print('Принять гипотезу о равенстве дисперсий')"
   ]
  },
  {
   "cell_type": "code",
   "execution_count": 56,
   "id": "6c0859a0",
   "metadata": {},
   "outputs": [
    {
     "name": "stdout",
     "output_type": "stream",
     "text": [
      "F_onewayResult(statistic=1.0788331954527908, pvalue=0.34004451579759776)\n",
      "F_onewayResult(statistic=5.103255671266959, pvalue=0.006594226990849622)\n"
     ]
    }
   ],
   "source": [
    "print(stats.f_oneway(g, h, i))\n",
    "print(stats.f_oneway(j, k, l))"
   ]
  },
  {
   "cell_type": "markdown",
   "id": "08230693",
   "metadata": {},
   "source": [
    "Согласно полученным данным, среднее в одной из групп значимо отличается от средних других групп (j, k , l)."
   ]
  },
  {
   "cell_type": "code",
   "execution_count": 57,
   "id": "7ab89765",
   "metadata": {},
   "outputs": [
    {
     "name": "stdout",
     "output_type": "stream",
     "text": [
      "F_onewayResult(statistic=7.526102904344392, pvalue=0.006636538993347301)\n",
      "F_onewayResult(statistic=4.923779937495258, pvalue=0.027580744486312765)\n",
      "F_onewayResult(statistic=0.43161795410685516, pvalue=0.5118859166537121)\n"
     ]
    }
   ],
   "source": [
    "print(stats.f_oneway(j, k))\n",
    "print(stats.f_oneway(j, l))\n",
    "print(stats.f_oneway(k, l))"
   ]
  },
  {
   "cell_type": "markdown",
   "id": "55952342",
   "metadata": {},
   "source": [
    "###### Полученные результаты свидетельствуют о том, что в тестовой группе средний доход с платящих клиентов занчимо отличается от среднего дохода платящих клиентов в контрольных группах.\n",
    "###### Можем сделать вывод о том, что нововведение имеет смысл среди платящих клиентов в возрасте от 25 до 45 лет."
   ]
  },
  {
   "cell_type": "code",
   "execution_count": 58,
   "id": "ed037ba3",
   "metadata": {},
   "outputs": [],
   "source": [
    "# Разделим группы пользователей по странам.\n",
    "m = users.query('group_type == \"test\" and country == [\"Argentina\", \"France\", \"Germany\", \"Mexico\", \"Spain\", \"United Arab Emirates\", \"United States of America\"]').total_revenue\n",
    "n = users.query('group_type == \"control_1\" and country == [\"Argentina\", \"France\", \"Germany\", \"Mexico\", \"Spain\", \"United Arab Emirates\", \"United States of America\"]').total_revenue\n",
    "o = users.query('group_type == \"control_2\" and country == [\"Argentina\", \"France\", \"Germany\", \"Mexico\", \"Spain\", \"United Arab Emirates\", \"United States of America\"]').total_revenue\n",
    "pp = users.query('group_type == \"test\" and country == [\"Argentina\", \"France\", \"Germany\", \"Mexico\", \"Spain\", \"United Arab Emirates\", \"United States of America\"] and total_revenue > 0').total_revenue\n",
    "q = users.query('group_type == \"control_1\" and country == [\"Argentina\", \"France\", \"Germany\", \"Mexico\", \"Spain\", \"United Arab Emirates\", \"United States of America\"] and total_revenue > 0').total_revenue\n",
    "r = users.query('group_type == \"control_2\" and country == [\"Argentina\", \"France\", \"Germany\", \"Mexico\", \"Spain\", \"United Arab Emirates\", \"United States of America\"] and total_revenue > 0').total_revenue"
   ]
  },
  {
   "cell_type": "code",
   "execution_count": 59,
   "id": "ce86f673",
   "metadata": {},
   "outputs": [
    {
     "name": "stdout",
     "output_type": "stream",
     "text": [
      "ShapiroResult(statistic=0.09692245721817017, pvalue=0.0)\n",
      "ShapiroResult(statistic=0.14268803596496582, pvalue=0.0)\n",
      "ShapiroResult(statistic=0.12023264169692993, pvalue=0.0)\n",
      "ShapiroResult(statistic=0.5420057773590088, pvalue=1.8378691925930254e-16)\n",
      "ShapiroResult(statistic=0.6559048891067505, pvalue=5.6879003561955115e-15)\n",
      "ShapiroResult(statistic=0.579380452632904, pvalue=1.2866675314254138e-16)\n"
     ]
    }
   ],
   "source": [
    "print(stats.shapiro(m))\n",
    "print(stats.shapiro(n))\n",
    "print(stats.shapiro(o))\n",
    "print(stats.shapiro(pp))\n",
    "print(stats.shapiro(q))\n",
    "print(stats.shapiro(r))"
   ]
  },
  {
   "cell_type": "code",
   "execution_count": 60,
   "id": "4e65cb93",
   "metadata": {},
   "outputs": [
    {
     "name": "stdout",
     "output_type": "stream",
     "text": [
      "Statistics=2.424, p-value=0.089\n",
      "Принять гипотезу о равенстве дисперсий\n"
     ]
    }
   ],
   "source": [
    "test_leven, p = stats.levene(m, n, o)\n",
    "print('Statistics=%.3f, p-value=%.3f' % (test_leven, p))\n",
    "alpha = 0.05\n",
    "if p < alpha:\n",
    "    print('Отклонить гипотезу о равенстве дисперсий')\n",
    "else:\n",
    "    print('Принять гипотезу о равенстве дисперсий')"
   ]
  },
  {
   "cell_type": "code",
   "execution_count": 61,
   "id": "a0d13f26",
   "metadata": {},
   "outputs": [
    {
     "name": "stdout",
     "output_type": "stream",
     "text": [
      "Statistics=3.538, p-value=0.030\n",
      "Отклонить гипотезу о равенстве дисперсий\n"
     ]
    }
   ],
   "source": [
    "test_leven, p = stats.levene(pp, q, r)\n",
    "print('Statistics=%.3f, p-value=%.3f' % (test_leven, p))\n",
    "alpha = 0.05\n",
    "if p < alpha:\n",
    "    print('Отклонить гипотезу о равенстве дисперсий')\n",
    "else:\n",
    "    print('Принять гипотезу о равенстве дисперсий')"
   ]
  },
  {
   "cell_type": "code",
   "execution_count": 62,
   "id": "1c78ce20",
   "metadata": {},
   "outputs": [
    {
     "name": "stdout",
     "output_type": "stream",
     "text": [
      "F_onewayResult(statistic=2.423704433444669, pvalue=0.08865129536460531)\n"
     ]
    }
   ],
   "source": [
    "print(stats.f_oneway(m, n, o))"
   ]
  },
  {
   "cell_type": "markdown",
   "id": "9dabd08f",
   "metadata": {},
   "source": [
    "Так как p-значение больше 0.05, то мы делаем вывод, что средние групп значимо не отличается друг от друга.\n",
    "#### Таким образом, разделение пользователей по странам не принесло положительных результатов."
   ]
  },
  {
   "cell_type": "markdown",
   "id": "3b94492f",
   "metadata": {},
   "source": [
    "# Вывод.\n",
    "\n",
    "По результатам проведенного тестирования мы установили следующее:\n",
    "- ARPU и ARPPU тестовой группы значимо не отличаются от значений контрольных групп;\n",
    "- доля платящих клиентов в тестовой группе статистически значимо снизилась;\n",
    "- ARPPU тестовой группы значимо отличается от ARPPU контрольных групп в сегменте пользователей в возрасте от 25 до 45 лет;\n",
    "- сегментация пользователей по странам также не показала значимых изменений.\n",
    "\n",
    "Таким образом, можем сделать вывод о том, что в общем и целом эксперимент не был успешен. Применять нововведения на весь проект не целесообразно.\n",
    "Возможно, имеет смысл провести дополнительные исследования в группе платящих пользователей в возрате от 25 до 45 лет."
   ]
  }
 ],
 "metadata": {
  "kernelspec": {
   "display_name": "Python 3 (ipykernel)",
   "language": "python",
   "name": "python3"
  },
  "language_info": {
   "codemirror_mode": {
    "name": "ipython",
    "version": 3
   },
   "file_extension": ".py",
   "mimetype": "text/x-python",
   "name": "python",
   "nbconvert_exporter": "python",
   "pygments_lexer": "ipython3",
   "version": "3.9.7"
  }
 },
 "nbformat": 4,
 "nbformat_minor": 5
}
